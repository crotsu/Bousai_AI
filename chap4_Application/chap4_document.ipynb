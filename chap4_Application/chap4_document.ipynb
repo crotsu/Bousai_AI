{
 "cells": [
  {
   "cell_type": "markdown",
   "metadata": {},
   "source": [
    "# 防災に関連した演習例をやってみよう"
   ]
  },
  {
   "cell_type": "markdown",
   "metadata": {},
   "source": [
    "## 課題：画像から災害か災害でないか判定する"
   ]
  },
  {
   "cell_type": "markdown",
   "metadata": {},
   "source": [
    "例：災害画像\n",
    "<img src=\"http://www.bousai.go.jp/kohou/kouhoubousai/h27/79/imgs/P10.jpg\" width=\"320px\">\n",
    "\n",
    "\n",
    "例：非災害画像\n",
    "<img src=\"https://img-cdn.guide.travel.co.jp/article/900/39365/74DEC981EDE742258591C9BD818BD11D_LL.jpg\" width=\"320px\">"
   ]
  },
  {
   "cell_type": "markdown",
   "metadata": {},
   "source": [
    "## 目次\n",
    "\n",
    "1. 画像の取得\n",
    "1. 前処理（画像をニューラルネットワークへの出力形式に変換する）\n",
    "1. 学習してみよう\n",
    "1. いろいろな画像で試してみよう"
   ]
  },
  {
   "cell_type": "markdown",
   "metadata": {},
   "source": [
    "## 1. 画像の取得\n",
    "ディープラーニングで何かしたい！と思ったときには，以下のような手順になる．  \n",
    "1. データを集める  \n",
    "1. 前処理（画像をニューラルネットワークの学習形式に変換する）  \n",
    "1. 学習する  \n",
    "1. 評価する  \n",
    "1. うまく行かない場合，以下を繰り返す．  \n",
    "    1. 学習パラメータを変えてみる．  \n",
    "    1. 前処理を再検討する．  \n",
    "    1. データを再度集め直す．\n",
    "\n",
    "\n",
    "インターネットから画像を集めてくることをクローリングといい，  \n",
    "集めたデータから必要な部分だけを抜き出すことをスクレイピングという．  \n",
    "さらに，スクレイピングしたデータを，ニューラルネットワークが学習できるように数値に変換する必要がある．  \n",
    "これを前処理という．  \n",
    "数値データに変換して，ようやくディープラーニングによる学習が開始できるが，  \n",
    "一般的に全体の工程の内，前処理で80％ものコスト（時間・労力）がかかると言われている．  \n",
    "\n",
    "画像を取得する方法はいろいろあるが，ここでは手動で集めることにした．  \n",
    "Googleで「災害」と検索し，「画像」をクリックすると以下のように多くの画像が表示される．  \n",
    "これを今回は人海戦術で集めた（頑張った． もっとよい方法はありますが，誰でもできることを示したいので！）  \n",
    "[Googleで「災害」を検索した結果の画像一覧](https://www.google.com/search?q=%E7%81%BD%E5%AE%B3&sxsrf=ACYBGNSIddNjNrgS_jL_8TqI1XRyMl3lEw:1579934418365&source=lnms&tbm=isch&sa=X&ved=2ahUKEwjrsJmukp7nAhUh7GEKHUczBfEQ_AUoAnoECA0QBA&biw=1375&bih=897)\n",
    "\n",
    "\n",
    "とにかく頑張って，「diaster」と「non_disaster」のフォルダに集める．\n",
    "\n",
    "<img width=\"272\" alt=\"スクリーンショット 2020-01-25 15 53 40\" src=\"https://user-images.githubusercontent.com/1255664/73117561-efd56d80-3f8a-11ea-95a5-1d0c56c7ae56.png\">\n",
    "\n",
    "<img width=\"267\" alt=\"スクリーンショット 2020-01-25 15 53 29\" src=\"https://user-images.githubusercontent.com/1255664/73117564-f82da880-3f8a-11ea-840e-d168bf8eca6e.png\">\n"
   ]
  },
  {
   "cell_type": "markdown",
   "metadata": {},
   "source": [
    "## 2. 前処理（画像をニューラルネットワークへの出力形式に変換する）\n",
    "\n",
    "集めた画像は，  ファイル名，サイズがバラバラである．  \n",
    "そこで，  \n",
    "- [ファイル名を統一したファイル名にrenameする](./preprocessing/1_rename.py)\n",
    "- [サイズを揃える](./preprocessing/2_resize.py)\n",
    "- [数値データに変換する](./preprocessing/3_makedata.py)\n",
    "このようにしてできたデータが，「disaster.npz」（バイナリファイル）である．  "
   ]
  },
  {
   "cell_type": "markdown",
   "metadata": {},
   "source": [
    "## 3. 学習してみよう\n",
    "\n",
    "では，実際に学習してみよう."
   ]
  }
 ],
 "metadata": {
  "kernelspec": {
   "display_name": "Python 3",
   "language": "python",
   "name": "python3"
  },
  "language_info": {
   "codemirror_mode": {
    "name": "ipython",
    "version": 3
   },
   "file_extension": ".py",
   "mimetype": "text/x-python",
   "name": "python",
   "nbconvert_exporter": "python",
   "pygments_lexer": "ipython3",
   "version": "3.7.4"
  }
 },
 "nbformat": 4,
 "nbformat_minor": 2
}
