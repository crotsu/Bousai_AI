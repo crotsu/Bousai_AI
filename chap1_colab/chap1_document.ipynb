{
 "cells": [
  {
   "cell_type": "markdown",
   "metadata": {},
   "source": [
    "# 第1章 とにかくDeep Learningを体験！\n",
    "\n",
    "## Google Colaboratory上で，TensorFlow+Kerasで文字認識（MNISTデータ）をやってみよう．"
   ]
  },
  {
   "cell_type": "markdown",
   "metadata": {},
   "source": [
    "## 1 Google Colaboratoryを立ち上げる\n",
    "[Google Colaboratory](https://colab.research.google.com/notebooks/welcome.ipynb)にアクセスする．  \n",
    "（セキュリティの関係で自動的に別タブ・別ウィンドウには飛ばないようになっている（Tabnabbing対策））  \n",
    "（右クリックで，新しいタブで開いてください）  \n",
    "googleアカウントを持っていれば，以下のようなページにアクセスできる．  \n",
    "\n",
    "<img width=\"1337\" alt=\"colab\" src=\"https://user-images.githubusercontent.com/1255664/72673004-1be28180-3aa7-11ea-958e-4d04ed612c49.png\">"
   ]
  },
  {
   "cell_type": "markdown",
   "metadata": {},
   "source": [
    "## 2 新しいノートブックを作る\n",
    "\n",
    "左上の「ファイル」から「Python3の新しいノートブック」をクリックして，プログラムを入力するためのノートブックを作成する．\n",
    "\n",
    "<img width=\"1320\" alt=\"colab2\" src=\"https://user-images.githubusercontent.com/1255664/72673087-b7282680-3aa8-11ea-8242-7131f18107db.png\">"
   ]
  },
  {
   "cell_type": "markdown",
   "metadata": {},
   "source": [
    "## 3 プログラムを入力する\n",
    "\n",
    "新しいノートブックができたら，「セル」と呼ばれる四角い窓に，プログラムを入力する．\n",
    "\n",
    "<img width=\"935\" alt=\"colab3\" src=\"https://user-images.githubusercontent.com/1255664/72673096-d8891280-3aa8-11ea-951f-ba068ea68eba.png\">\n",
    "\n",
    "下のプログラムは，[TensowrFlowのチュートリアル](https://www.tensorflow.org/tutorials/quickstart/beginner?hl=ja)と同じプログラムである．  \n",
    "（ただし，中間層のパラメータを128から8に変えてある．）  \n",
    "次に示すコードが文字（MNIST)を学習して推論するプログラムである．  \n",
    "これをコピー＆ペーストする．"
   ]
  },
  {
   "cell_type": "markdown",
   "metadata": {},
   "source": [
    "```python\n",
    "from __future__ import absolute_import, division, print_function, unicode_literals\n",
    "\n",
    "try:\n",
    "  # %tensorflow_version は Colab 上でのみ利用可能\n",
    "  %tensorflow_version 2.x\n",
    "except Exception:\n",
    "  pass\n",
    "\n",
    "import tensorflow as tf\n",
    "\n",
    "\n",
    "# MNISTをロードして準備します．サンプルを整数から浮動小数点数に変換します．\n",
    "# サンプルを整数から浮動小数点数に変換します．\n",
    "mnist = tf.keras.datasets.mnist\n",
    "(x_train, y_train), (x_test, y_test) = mnist.load_data()\n",
    "x_train, x_test = x_train / 255.0, x_test / 255.0\n",
    "\n",
    "# 層を積み重ねてtf.keras.Sequentialモデルを構築します．\n",
    "# 訓練のためにオプティマイザと損失関数を選びます．\n",
    "model = tf.keras.models.Sequential([\n",
    "  tf.keras.layers.Flatten(input_shape=(28, 28)),\n",
    "  tf.keras.layers.Dense(8, activation='relu'),\n",
    "  tf.keras.layers.Dropout(0.2),\n",
    "  tf.keras.layers.Dense(10, activation='softmax')\n",
    "])\n",
    "\n",
    "model.compile(optimizer='adam',\n",
    "              loss='sparse_categorical_crossentropy',\n",
    "              metrics=['accuracy'])\n",
    "\n",
    "# モデルを学習させる\n",
    "model.fit(x_train, y_train, epochs=5)\n",
    "model.evaluate(x_test,  y_test, verbose=2)\n",
    "```"
   ]
  },
  {
   "cell_type": "markdown",
   "metadata": {},
   "source": [
    "下の図のような感じになる．\n",
    "<img width=\"1179\" alt=\"colab4\" src=\"https://user-images.githubusercontent.com/1255664/72675169-a76a0b80-3ac3-11ea-9240-2255408ecf50.png\">"
   ]
  },
  {
   "cell_type": "markdown",
   "metadata": {},
   "source": [
    "## 4 実行させる\n",
    "\n",
    "左側にある矢印をクリックするか，「ランタイム」から「すべてのセルを実行」をクリックする．\n",
    "<img width=\"1184\" alt=\"colab5\" src=\"https://user-images.githubusercontent.com/1255664/72673732-ebecab80-3ab1-11ea-992b-8a613d92531c.png\">\n",
    "\n",
    "図のように学習し，そして推論結果が出力される．  \n",
    "この場合，正答率が0.9156であった．"
   ]
  },
  {
   "cell_type": "markdown",
   "metadata": {},
   "source": [
    "## 5 パラメータを変えてみる\n",
    "\n",
    "次のプログラムの8という数値を128に変更してみると，正答率が変化する．  \n",
    "この数値は，ニューラルネットワークの中間層のニューロン数の個数である．  \n",
    "これを多くすると学習性能が向上する．その反面，過学習を起こしやすくなり，学習時間も増加する．\n",
    "\n",
    "```\n",
    "  tf.keras.layers.Dense(8, activation='relu'),\n",
    "```\n",
    "↓\n",
    "\n",
    "```\n",
    "  tf.keras.layers.Dense(128, activation='relu'),\n",
    "```\n",
    "\n",
    "<img width=\"1173\" alt=\"colab6\" src=\"https://user-images.githubusercontent.com/1255664/72673840-d1670200-3ab2-11ea-9f3f-42d1c1b0ce99.png\">\n",
    "\n",
    "中間ニューロンの数を8から128に増やすと，正答率が0.9780まであがる．  \n",
    "一方，学習時間が各エポックで1秒多くかかっている．"
   ]
  },
  {
   "cell_type": "markdown",
   "metadata": {},
   "source": [
    "## 6 GPUでもやってみる\n",
    "GPUも無料に利用できる（利用制限はある）\n",
    "「ランタイム」から「ランタイムのタイプを変更」を選択\n",
    "\n",
    "<img width=\"1168\" alt=\"colab7\" src=\"https://user-images.githubusercontent.com/1255664/72674985-375a8600-3ac1-11ea-8c9b-4e787210a495.png\">\n",
    "\n",
    "「ハードウェア アクセラレータ」を「GPU」を選択\n",
    "<img width=\"1178\" alt=\"colab8\" src=\"https://user-images.githubusercontent.com/1255664/72674992-59ec9f00-3ac1-11ea-9158-3a95508f634b.png\">\n",
    "\n",
    "これで，GPUを利用できる．\n",
    "\n",
    "もう一度，実行してみると，学習速度がNONE（CPU）と比べて早くなっていることがわかる．  \n",
    "（学習データ，モデルが大規模ではないので，それほどGPUの恩恵を感じないが，）"
   ]
  },
  {
   "cell_type": "markdown",
   "metadata": {},
   "source": [
    "## 7 どんな文字が正解なのか確認してみる\n",
    "\n",
    "TensorFlowのチュートリアルはここまでの説明しかない．  \n",
    "しかし，どんな文字が認識されているのか確認してみたい人も多いと思う．  \n",
    "そこで，確認してみよう．  \n",
    "\n",
    "先程入力したプログラムに以下のプログラムを追加する．  \n",
    "先程のプログラムは学習する部分で，以下のプログラムは未知データを予測する部分である．  \n",
    "\n",
    "追加するとき，新しいコードセルを下に追加して，そこにコピー&ペーストする．\n",
    "<img width=\"1204\" alt=\"スクリーンショット 2020-01-25 14 56 23\" src=\"https://user-images.githubusercontent.com/1255664/73117042-68d0c700-3f83-11ea-84cb-a9101e90ceec.png\">"
   ]
  },
  {
   "cell_type": "markdown",
   "metadata": {},
   "source": [
    "```python\n",
    "# 未知データを入力する（ここでは，評価に使ったx_testを入れる）\n",
    "output = model.predict(x_test)\n",
    "\n",
    "# 認識結果を表示する（1万枚は多すぎるので12枚のみ）\n",
    "for i in output[:12]:\n",
    "    print(i.argmax())\n",
    "\n",
    "# MNISTのテスト画像を表示する\n",
    "# mnistの画像を表示する\n",
    "import matplotlib.pyplot as plt\n",
    "\n",
    "W = 4  # 横に並べる個数\n",
    "H = 3  # 縦に並べる個数\n",
    "fig = plt.figure(figsize=(H, W))\n",
    "fig.subplots_adjust(left=0, right=1, bottom=0, top=1.0, hspace=0.05, wspace=0.05)\n",
    "for i in range(W*H):\n",
    "    ax = fig.add_subplot(H, W, i + 1, xticks=[], yticks=[])\n",
    "    ax.imshow(x_test[i].reshape((28, 28)), cmap='gray')\n",
    "\n",
    "plt.show()\n",
    "```"
   ]
  },
  {
   "cell_type": "markdown",
   "metadata": {},
   "source": [
    "実行すると，以下の図のように予測した結果が出力される．  \n",
    "<img width=\"1203\" alt=\"スクリーンショット 2020-01-25 15 01 06\" src=\"https://user-images.githubusercontent.com/1255664/73117055-93bb1b00-3f83-11ea-89be-426a6c09e4eb.png\">"
   ]
  },
  {
   "cell_type": "markdown",
   "metadata": {},
   "source": [
    "## 8 Webアプリで遊んでみよう！\n",
    "\n",
    "これは私が作成したページではないのだが，面白いページがあったので，アクセスしていろいろな文字を書いて認識させて遊んでみよう．  \n",
    "内部で動いているのは同様のTensorFlowである．  \n",
    "[Webデモ](https://ml-demo.zukucode.com/mnist)  \n",
    "[解説](https://zukucode.com/2019/08/tensorflow-vue-mnist.html)"
   ]
  },
  {
   "cell_type": "markdown",
   "metadata": {},
   "source": [
    "# 未完成\n",
    "\n",
    "自分で書いた文字を認識させてみたいという人も多いと思う．  \n",
    "そこで，自分が持っているペイント系のツールで字を書く．\n",
    "ツールがない人は，[Web](https://www.otwo.jp/blog/canvas-drawing/)で書いてみよう．\n",
    "\n",
    "ここでは，すでに私が書いた「7」があるので，これを使うことにする．\n",
    "![seven](https://user-images.githubusercontent.com/1255664/73115033-1502b580-3f64-11ea-8333-0a263e9ce259.jpg)"
   ]
  }
 ],
 "metadata": {
  "kernelspec": {
   "display_name": "Python 3",
   "language": "python",
   "name": "python3"
  },
  "language_info": {
   "codemirror_mode": {
    "name": "ipython",
    "version": 3
   },
   "file_extension": ".py",
   "mimetype": "text/x-python",
   "name": "python",
   "nbconvert_exporter": "python",
   "pygments_lexer": "ipython3",
   "version": "3.7.4"
  }
 },
 "nbformat": 4,
 "nbformat_minor": 2
}
