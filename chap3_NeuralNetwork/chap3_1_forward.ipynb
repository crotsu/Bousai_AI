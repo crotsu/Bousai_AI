{
 "cells": [
  {
   "cell_type": "markdown",
   "metadata": {},
   "source": [
    "### 前向き計算（拡張性ゼロのアホアホプログラム）"
   ]
  },
  {
   "cell_type": "markdown",
   "metadata": {},
   "source": [
    "このページは以下のリンクより， google colaboratoryから動作させることができる．\n",
    "- [Open with Colab](https://colab.research.google.com/github/crotsu/Bousai_AI/blob/master/chap3_NeuralNetwork/chap3_1_forward.ipynb)"
   ]
  },
  {
   "cell_type": "code",
   "execution_count": null,
   "metadata": {},
   "outputs": [],
   "source": [
    "# ニューラルネットワークの前向き計算\n",
    "# 練習用のため拡張性ゼロのアホアホプログラミング\n",
    "\n",
    "import numpy as np\n",
    "\n",
    "# パラメータ\n",
    "EPSILON = 4.0\n",
    "\n",
    "# シグモイド関数\n",
    "def sigmoid(x):\n",
    "    return 1/(1+np.exp(-1*EPSILON*x))\n",
    "\n",
    "# 入力（XORの入力部分）\n",
    "dataX = np.array(\n",
    "    [[0,0],\n",
    "     [0,1],\n",
    "     [1,0],\n",
    "     [1,1]]\n",
    ")\n",
    "\n",
    "# 教師信号（XORの出力部分）\n",
    "dataY = np.array(\n",
    "    [[0],\n",
    "     [1],\n",
    "     [1],\n",
    "     [0]]\n",
    ")\n",
    "\n",
    "# 重みと閾値(back_propagation.pyでnp.random.seed(3)で計算した値)\n",
    "wab =  1.94\n",
    "wac = -1.88\n",
    "wbd = -1.54\n",
    "wbe =  1.60\n",
    "wcd = -1.21\n",
    "wce =  1.29\n",
    "tha =  0.88\n",
    "thb = -0.92\n",
    "thc =  0.58\n",
    "\n",
    "# 乱数で与える場合\n",
    "'''\n",
    "wab = (np.random.rand()-0.5)*2 * 0.3 # -0.3から0.3の一様乱数\n",
    "wac = (np.random.rand()-0.5)*2 * 0.3\n",
    "wbd = (np.random.rand()-0.5)*2 * 0.3\n",
    "wbe = (np.random.rand()-0.5)*2 * 0.3\n",
    "wcd = (np.random.rand()-0.5)*2 * 0.3\n",
    "wce = (np.random.rand()-0.5)*2 * 0.3\n",
    "tha = (np.random.rand()-0.5)*2 * 0.3\n",
    "thb = (np.random.rand()-0.5)*2 * 0.3\n",
    "thc = (np.random.rand()-0.5)*2 * 0.3\n",
    "'''\n",
    "\n",
    "for p in range(len(dataX)):\n",
    "\n",
    "    ##########\n",
    "    # 前向き計算\n",
    "    ##########\n",
    "    \n",
    "    # 入力層\n",
    "    outd = dataX[p][0]\n",
    "    oute = dataX[p][1]\n",
    "    \n",
    "    # 中間層\n",
    "    xb = wbd * outd + wbe * oute + thb\n",
    "    outb = sigmoid(xb)\n",
    "    \n",
    "    xc = wcd * outd + wce * oute + thc\n",
    "    outc = sigmoid(xc)\n",
    "    \n",
    "    # 出力層\n",
    "    xa = wab * outb + wac * outc + tha\n",
    "    outa = sigmoid(xa)\n",
    "    \n",
    "    error = (outa-dataY[p])**2\n",
    "    print(dataY[p], outa, error)\n"
   ]
  },
  {
   "cell_type": "markdown",
   "metadata": {},
   "source": [
    "このプログラムのコメントアウト部分であるランダムに重みと閾値を与える部分を実行すると，XORの出力にはならないことを確認してみよう．  \n",
    "一般的には，初期重みと閾値をらんだむ"
   ]
  }
 ],
 "metadata": {
  "kernelspec": {
   "display_name": "Python 3",
   "language": "python",
   "name": "python3"
  },
  "language_info": {
   "codemirror_mode": {
    "name": "ipython",
    "version": 3
   },
   "file_extension": ".py",
   "mimetype": "text/x-python",
   "name": "python",
   "nbconvert_exporter": "python",
   "pygments_lexer": "ipython3",
   "version": "3.7.4"
  }
 },
 "nbformat": 4,
 "nbformat_minor": 2
}
