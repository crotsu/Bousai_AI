{
 "cells": [
  {
   "cell_type": "markdown",
   "metadata": {},
   "source": [
    "# 最急降下法で最小二乗法のパラメータを求めることは可能？"
   ]
  },
  {
   "cell_type": "markdown",
   "metadata": {},
   "source": [
    "このページは以下のリンクより， google colaboratoryから動作させることができる．\n",
    "- [Open with Colab](https://colab.research.google.com/github/crotsu/Bousai_AI/blob/master/chap2_Python/chap2_5_LSM_by_GDM.ipynb)"
   ]
  },
  {
   "cell_type": "markdown",
   "metadata": {},
   "source": [
    "データを生成する．  \n",
    "下記の式に，ノイズとして正規乱数（平均0．0，標準偏差0.5）が付加されてデータが生成されていると仮定する．\n",
    "\n",
    "$$\n",
    " f(x)=0.7x+1.2\n",
    "$$"
   ]
  },
  {
   "cell_type": "code",
   "execution_count": null,
   "metadata": {},
   "outputs": [],
   "source": [
    "import numpy as np\n",
    "import matplotlib.pyplot as plt\n",
    "\n",
    "# 目的関数\n",
    "def mathfunc(x):\n",
    "    y = 0.7*x+1.2\n",
    "    return y\n",
    "\n",
    "# 定義域（xの範囲: -1.0から4.0）\n",
    "# 生成するデータの個数は20個\n",
    "xmin = -1.0\n",
    "xmax = 4.0\n",
    "num = 20\n",
    "\n",
    "# 乱数の種を設定\n",
    "np.random.seed(5)\n",
    "\n",
    "# ランダムにxを生成\n",
    "dataX = (xmax - xmin) * np.random.rand(num) + xmin\n",
    "dataX = np.sort(dataX)\n",
    "\n",
    "\n",
    "# ｘからｙを生成する．\n",
    "dataY = mathfunc(dataX)\n",
    "\n",
    "# yにノイズ（正規乱数（平均0．0， 標準偏差0.5））を加える．\n",
    "dataY += np.random.normal(loc=0.0, scale=0.5, size=num)\n",
    "\n",
    "# グラフ表示\n",
    "plt.scatter(dataX, dataY)\n",
    "plt.xlim(xmin, xmax)\n",
    "plt.grid(True)\n",
    "plt.show()"
   ]
  },
  {
   "cell_type": "markdown",
   "metadata": {},
   "source": [
    "最小二乗法の目的関数を作成する．\n",
    "\n",
    "求めたい多項式  \n",
    "\n",
    "$$\n",
    "f(x) = a x + b\n",
    "$$\n",
    "\n",
    "損失関数  \n",
    "$$\n",
    "J(a,b) = \\frac{1}{2}\\sum_{\\alpha=1}^N \\left(y_\\alpha - f(x_\\alpha)\\right)^2\n",
    "$$"
   ]
  },
  {
   "cell_type": "markdown",
   "metadata": {},
   "source": [
    "目的関数のグラフを描いてみよう．\n",
    "まず，目的関数を展開する．\n",
    "$$\n",
    "\\begin{align}\n",
    "J(a,b) &= \\frac{1}{2}\\sum_{\\alpha=1}^N \\left(y_\\alpha - f(x_\\alpha)\\right)^2\\\\  \n",
    "&=\\frac{1}{2}\\sum_{\\alpha=1}^N \\left(y_\\alpha - (ax_\\alpha+b)\\right)^2\\\\  \n",
    "&=\\frac{1}{2}\\sum_{\\alpha=1}^N \\left(y_\\alpha^2 - 2y_\\alpha(ax_\\alpha+b)+(ax_\\alpha+b)^2\\right)\\\\  \n",
    "&=\\frac{1}{2}\\sum_{\\alpha=1}^N \\left(y_\\alpha^2 - 2ax_\\alpha y_\\alpha-2by_\\alpha + a^2x_\\alpha^2+2abx_\\alpha+b^2\\right)\\\\  \n",
    "&=\\frac{1}{2}\\left\\{\\sum_{\\alpha=1}^N y^2-2a\\sum_{\\alpha=1}^N x_\\alpha y_\\alpha -2b \\sum_{\\alpha=1}^N y_\\alpha + a^2 \\sum_{\\alpha=1}^N x_\\alpha ^2 + 2ab \\sum_{\\alpha=1}^N x_\\alpha + b^2 \\sum_{\\alpha=1}^N 1\\right\\}\\\\  \n",
    "\\end{align}\n",
    "$$"
   ]
  },
  {
   "cell_type": "code",
   "execution_count": null,
   "metadata": {},
   "outputs": [],
   "source": [
    "# データからΣのところを求める．\n",
    "\n",
    "print(sum(dataY**2))\n",
    "print(sum(dataX*dataY)*2)\n",
    "print(sum(dataY)*2)\n",
    "print(sum(dataX**2))\n",
    "print(sum(dataX)*2)\n",
    "print(len(dataX))"
   ]
  },
  {
   "cell_type": "markdown",
   "metadata": {},
   "source": [
    "よって，損失関数は，\n",
    "$$\n",
    "J(a,b) = \\frac{1.0}{2.0}\\left(115.32-171.78a-86.14b+71.65a^2+55.79ab+20b^2\\right)\n",
    "$$\n",
    "\n",
    "gnuplotでは以下のように入力する. \n",
    "```\n",
    "splot[-10:10][-10:10] (1.0/2.0)*(115.32-171.78*x-86.14*y+71.65*x**2+55.79*x*y+20*y**2)\n",
    "```"
   ]
  },
  {
   "cell_type": "markdown",
   "metadata": {},
   "source": [
    "これをグラフに表示すると，以下のようになる．\n",
    "![title](./img/obj1.gif)\n",
    "![title](./img/obj2.gif)\n",
    "\n",
    "損失関数は確かに下に凸のグラフで，最小値をとるa,bを求めることができそうである．"
   ]
  },
  {
   "cell_type": "code",
   "execution_count": null,
   "metadata": {},
   "outputs": [],
   "source": [
    "# グラフ表示\n",
    "plt.scatter(dataX, dataY) # 散布図\n",
    "plt.xlim(xmin, xmax)\n",
    "plt.grid(True)\n",
    "plt.show()"
   ]
  },
  {
   "cell_type": "code",
   "execution_count": null,
   "metadata": {},
   "outputs": [],
   "source": [
    "# ライブラリを使って最小二乗法を行う．\n",
    "dim = 1\n",
    "ans = np.polyfit(dataX, dataY, dim)\n",
    "print(ans)\n",
    "\n",
    "plt.plot(dataX, np.poly1d(ans)(dataX),color='red')\n",
    "plt.scatter(dataX, dataY)\n",
    "plt.grid(True)"
   ]
  },
  {
   "cell_type": "markdown",
   "metadata": {},
   "source": [
    "最急降下法を用いて，最小二乗法を行うために式を導出する．\n",
    "\n",
    "損失関数\n",
    "\n",
    "$$\n",
    "\\begin{align}\n",
    "J(a,b) &= \\frac{1}{2}\\sum_{\\alpha=1}^N \\left(y_\\alpha - f(x_\\alpha)\\right)^2\\\\  \n",
    "&=\\frac{1}{2}\\sum_{\\alpha=1}^N \\left(y_\\alpha - (ax_\\alpha+b)\\right)^2\\\\  \n",
    "&=\\frac{1}{2}\\sum_{\\alpha=1}^N \\left(y_\\alpha - ax_\\alpha-b\\right)^2  \n",
    "\\end{align}\n",
    "$$\n",
    "\n",
    "損失関数の偏微分\n",
    "\n",
    "$$\n",
    "\\frac{\\partial J(a, b)}{\\partial a}=\\sum_{\\alpha=1}^N \\left(y_\\alpha - ax_\\alpha -b \\right) (-x)\\\\  \n",
    "\\frac{\\partial J(a, b)}{\\partial a}=\\sum_{\\alpha=1}^N \\left(y_\\alpha - ax_\\alpha -b \\right) (1)\\\\  \n",
    "$$\n",
    "\n",
    "最急降下法\n",
    "\n",
    "$$\n",
    "a_t = a_{t-1} - \\eta \\frac{\\partial J(a, b)}{\\partial a}\\\\  \n",
    "b_t = b_{t-1} - \\eta \\frac{\\partial J(a, b)}{\\partial b}\n",
    "$$"
   ]
  },
  {
   "cell_type": "code",
   "execution_count": null,
   "metadata": {},
   "outputs": [],
   "source": [
    "# 最急降下法を用いて，最小二乗法を行う\n",
    "\n",
    "# 求める関数\n",
    "def object_func(a, b, x):\n",
    "    y  = a*x + b\n",
    "    return y\n",
    "    \n",
    "# 損失関数\n",
    "def error_func(a, b, x, y):\n",
    "    error = 1.0/2.0 * sum((y-object_func(a, b, x))**2)\n",
    "    return error\n",
    "\n",
    "# 損失関数の偏微分:a\n",
    "def ｄerivative_a(a, b):\n",
    "    z =  sum((dataY-a*dataX-b)*(-dataX))\n",
    "    return z\n",
    "\n",
    "# 損失関数の偏微分:b\n",
    "def derivative_b(a, b):\n",
    "    z =  sum((dataY-a*dataX-b)*(-1))\n",
    "    return z\n",
    "\n",
    "# 最急降下法で損失関数の最小値をとるパラメータを求める．\n",
    "eta = 0.01\n",
    "a = 10\n",
    "b =10\n",
    "\n",
    "# 終了条件\n",
    "epsilon = 0.0001\n",
    "old_para_a = a\n",
    "old_para_b = b\n",
    "\n",
    "history = np.zeros((0,4))\n",
    "\n",
    "ct = 0\n",
    "for i in range(1000):\n",
    "    # 更新式\n",
    "    a = a - eta*derivative_a(a, b)\n",
    "    b = b - eta*derivative_b(a, b)\n",
    "    error = error_func(a, b, dataX, dataY)\n",
    "    \n",
    "    #print('ct={:d}'.format(ct),', error={:.2f}'.format(error),', a={:.2f}'.format(a), ', b={:.2f}'.format(b))\n",
    "    print( \"ct=%3d,  error=%6.2f,  a=%6.2f,  b=%6.2f\" % (ct, error, a, b))\n",
    "    \n",
    "    history = np.vstack((history, [ct, error, a, b]))\n",
    "    \n",
    "    if abs(old_para_a-a)<epsilon and abs(old_para_b-b)<epsilon :\n",
    "        break\n",
    "\n",
    "    old_para_a = a\n",
    "    old_para_b = b\n",
    "\n",
    "    ct+=1\n",
    "\n",
    "# 更新回数\n",
    "print('更新回数=', ct)\n",
    "\n",
    "# 求めたパラメータ\n",
    "print('a=', a)\n",
    "print('b=', b)\n",
    "\n",
    "\n",
    "#\n",
    "# 最急降下法で求めたパラメータを使って，グラフ表示\n",
    "#\n",
    "def mathfunc(x):\n",
    "    y = a*x+b\n",
    "    return y\n",
    "\n",
    "# グラフ描画のためのデータ作成\n",
    "xmin = -1.0\n",
    "xmax = 4.0\n",
    "num = 100\n",
    "x = np.linspace(xmin, xmax, num)\n",
    "y = mathfunc(x)\n",
    "\n",
    "# グラフ描画\n",
    "plt.plot(x, y, color='red')\n",
    "plt.scatter(dataX, dataY)\n",
    "plt.xlim(xmin, xmax)\n",
    "plt.grid(True)\n",
    "plt.show()"
   ]
  },
  {
   "cell_type": "code",
   "execution_count": null,
   "metadata": {},
   "outputs": [],
   "source": [
    "# 学習曲線の表示\n",
    "plt.plot(history[:,0], history[:,1])\n",
    "plt.grid()\n",
    "plt.show()"
   ]
  }
 ],
 "metadata": {
  "kernelspec": {
   "display_name": "Python 3",
   "language": "python",
   "name": "python3"
  },
  "language_info": {
   "codemirror_mode": {
    "name": "ipython",
    "version": 3
   },
   "file_extension": ".py",
   "mimetype": "text/x-python",
   "name": "python",
   "nbconvert_exporter": "python",
   "pygments_lexer": "ipython3",
   "version": "3.7.4"
  }
 },
 "nbformat": 4,
 "nbformat_minor": 2
}
