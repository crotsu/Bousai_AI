{
 "cells": [
  {
   "cell_type": "markdown",
   "metadata": {},
   "source": [
    "# 最急降下法で最小二乗法のパラメータを求めることは可能？"
   ]
  },
  {
   "cell_type": "markdown",
   "metadata": {},
   "source": [
    "このページは以下のリンクより， google colaboratoryから動作させることができる．\n",
    "- [Open with Colab](https://colab.research.google.com/github/crotsu/Bousai_AI/blob/master/chap2_Python/chap2_5_LSM_by_GDM.ipynb)"
   ]
  },
  {
   "cell_type": "markdown",
   "metadata": {},
   "source": [
    "データを生成する．  \n",
    "下記の式に，ノイズとして正規乱数（平均0．0，標準偏差0.5）が付加されてデータが生成されていると仮定する．\n",
    "\n",
    "$$\n",
    " f(x)=0.7x+1.2\n",
    "$$"
   ]
  },
  {
   "cell_type": "code",
   "execution_count": 2,
   "metadata": {},
   "outputs": [
    {
     "data": {
      "text/plain": [
       "<Figure size 640x480 with 1 Axes>"
      ]
     },
     "metadata": {},
     "output_type": "display_data"
    }
   ],
   "source": [
    "import numpy as np\n",
    "import matplotlib.pyplot as plt\n",
    "\n",
    "# 目的関数\n",
    "def mathfunc(x):\n",
    "    y = 0.7*x+1.2\n",
    "    return y\n",
    "\n",
    "# 定義域（xの範囲: -1.0から4.0）\n",
    "# 生成するデータの個数は20個\n",
    "xmin = -1.0\n",
    "xmax = 4.0\n",
    "num = 20\n",
    "\n",
    "# 乱数の種を設定\n",
    "np.random.seed(5)\n",
    "\n",
    "# ランダムにxを生成\n",
    "dataX = (xmax - xmin) * np.random.rand(num) + xmin\n",
    "dataX = np.sort(dataX)\n",
    "\n",
    "\n",
    "# ｘからｙを生成する．\n",
    "dataY = mathfunc(dataX)\n",
    "\n",
    "# yにノイズ（正規乱数（平均0．0， 標準偏差0.5））を加える．\n",
    "dataY += np.random.normal(loc=0.0, scale=0.5, size=num)\n",
    "\n",
    "# グラフ表示\n",
    "plt.scatter(dataX, dataY)\n",
    "plt.xlim(xmin, xmax)\n",
    "plt.grid(True)\n",
    "plt.show()"
   ]
  },
  {
   "cell_type": "markdown",
   "metadata": {},
   "source": [
    "最小二乗法の目的関数を作成する．\n",
    "\n",
    "求めたい多項式  \n",
    "\n",
    "$$\n",
    "\\begin{align}\n",
    "f(x) &= a x + b\n",
    "\\end{align}\n",
    "$$\n",
    "\n",
    "損失関数  \n",
    "$$\n",
    "J(a,b) = \\frac{1}{2}\\sum_{\\alpha=1}^N \\left(y_\\alpha - f(x_\\alpha)\\right)^2\n",
    "$$"
   ]
  },
  {
   "cell_type": "markdown",
   "metadata": {},
   "source": [
    "目的関数のグラフを描いてみよう．\n",
    "まず，目的関数を展開する．\n",
    "$$\n",
    "\\begin{align}\n",
    "J(a,b) &= \\frac{1}{2}\\sum_{\\alpha=1}^N \\left(y_\\alpha - f(x_\\alpha)\\right)^2\\\\\n",
    "&=\\frac{1}{2}\\sum_{\\alpha=1}^N \\left(y_\\alpha - (ax_\\alpha+b)\\right)^2\\\\\n",
    "&=\\frac{1}{2}\\sum_{\\alpha=1}^N \\left(y_\\alpha^2 - 2y_\\alpha(ax_\\alpha+b)+(ax_\\alpha+b)^2\\right)\\\\\n",
    "&=\\frac{1}{2}\\sum_{\\alpha=1}^N \\left(y_\\alpha^2 - 2ax_\\alpha y_\\alpha-2by_\\alpha + a^2x_\\alpha^2+2abx_\\alpha+b^2\\right)\\\\\n",
    "&=\\frac{1}{2}\\left\\{\\sum_{\\alpha=1}^N y^2-2a\\sum_{\\alpha=1}^N x_\\alpha y_\\alpha -2b \\sum_{\\alpha=1}^N y_\\alpha + a^2 \\sum_{\\alpha=1}^N x_\\alpha ^2 + 2ab \\sum_{\\alpha=1}^N x_\\alpha + b^2 \\sum_{\\alpha=1}^N 1\\right\\}\\\\\n",
    "\\end{align}\n",
    "$$"
   ]
  },
  {
   "cell_type": "code",
   "execution_count": 3,
   "metadata": {},
   "outputs": [
    {
     "name": "stdout",
     "output_type": "stream",
     "text": [
      "116.98497662087675\n",
      "174.1579670342813\n",
      "86.13927091200372\n",
      "71.64662401762588\n",
      "55.788229864823506\n",
      "20\n"
     ]
    }
   ],
   "source": [
    "# データからΣのところを求める．\n",
    "\n",
    "print(sum(dataY**2))\n",
    "print(sum(dataX*dataY)*2)\n",
    "print(sum(dataY)*2)\n",
    "print(sum(dataX**2))\n",
    "print(sum(dataX)*2)\n",
    "print(len(dataX))"
   ]
  },
  {
   "cell_type": "markdown",
   "metadata": {},
   "source": [
    "よって，損失関数は，\n",
    "$$\n",
    "J(a,b) = \\frac{1.0}{2.0}\\left(115.32-171.78a-86.14b+71.65a^2+55.79ab+20b^2\\right)\n",
    "$$\n",
    "\n",
    "gnuplotでは以下のように入力する. \n",
    "```\n",
    "splot[-10:10][-10:10] (1.0/2.0)*(115.32-171.78*x-86.14*y+71.65*x**2+55.79*x*y+20*y**2)\n",
    "```"
   ]
  },
  {
   "cell_type": "markdown",
   "metadata": {},
   "source": [
    "これをグラフに表示すると，以下のようになる．\n",
    "![title](./img/obj1.gif)\n",
    "![title](./img/obj2.gif)\n",
    "\n",
    "損失関数は確かに下に凸のグラフで，最小値をとるa,bを求めることができそうである．"
   ]
  },
  {
   "cell_type": "code",
   "execution_count": 4,
   "metadata": {},
   "outputs": [
    {
     "data": {
      "image/png": "[encoded data removed]",
      "text/plain": [
       "<Figure size 432x288 with 1 Axes>"
      ]
     },
     "metadata": {
      "needs_background": "light"
     },
     "output_type": "display_data"
    }
   ],
   "source": [
    "# グラフ表示\n",
    "plt.scatter(dataX, dataY) # 散布図\n",
    "plt.xlim(xmin, xmax)\n",
    "plt.grid(True)\n",
    "plt.show()"
   ]
  },
  {
   "cell_type": "code",
   "execution_count": 8,
   "metadata": {},
   "outputs": [
    {
     "name": "stdout",
     "output_type": "stream",
     "text": [
      "[0.82490589 1.00298079]\n"
     ]
    },
    {
     "data": {
      "image/png": "[encoded data removed]",
      "text/plain": [
       "<Figure size 432x288 with 1 Axes>"
      ]
     },
     "metadata": {
      "needs_background": "light"
     },
     "output_type": "display_data"
    }
   ],
   "source": [
    "# ライブラリを使って最小二乗法を行う．\n",
    "dim = 1\n",
    "ans = np.polyfit(dataX, dataY, dim)\n",
    "print(ans)\n",
    "\n",
    "plt.plot(dataX, np.poly1d(ans)(dataX),color='red')\n",
    "plt.scatter(dataX, dataY)\n",
    "plt.grid(True)"
   ]
  },
  {
   "cell_type": "markdown",
   "metadata": {},
   "source": [
    "最急降下法を用いて，最小二乗法を行うために式を導出する．\n",
    "\n",
    "損失関数\n",
    "\n",
    "$$\n",
    "\\begin{align}\n",
    "J(a,b) &= \\frac{1}{2}\\sum_{\\alpha=1}^N \\left(y_\\alpha - f(x_\\alpha)\\right)^2\\\\\n",
    "&=\\frac{1}{2}\\sum_{\\alpha=1}^N \\left(y_\\alpha - (ax_\\alpha+b)\\right)^2\\\\\n",
    "&=\\frac{1}{2}\\sum_{\\alpha=1}^N \\left(y_\\alpha - ax_\\alpha-b\\right)^2\n",
    "\\end{align}\n",
    "$$\n",
    "\n",
    "損失関数の偏微分\n",
    "$$\n",
    "\\frac{\\partial J(a, b)}{\\partial a}=\\sum_{\\alpha=1}^N \\left(y_\\alpha - ax_\\alpha -b \\right) (-x)\\\\\n",
    "\\frac{\\partial J(a, b)}{\\partial a}=\\sum_{\\alpha=1}^N \\left(y_\\alpha - ax_\\alpha -b \\right) (1)\\\\\n",
    "$$\n",
    "\n",
    "最急降下法\n",
    "$$\n",
    "a_t = a_{t-1} - \\eta \\frac{\\partial J(a, b)}{\\partial a}\\\\\n",
    "b_t = b_{t-1} - \\eta \\frac{\\partial J(a, b)}{\\partial b}\n",
    "$$"
   ]
  },
  {
   "cell_type": "code",
   "execution_count": 33,
   "metadata": {},
   "outputs": [
    {
     "name": "stdout",
     "output_type": "stream",
     "text": [
      "ct=  0,  error=534.02,  a=  0.92,  b=  8.17\n",
      "ct=  1,  error=189.73,  a= -1.15,  b=  7.29\n",
      "ct=  2,  error=148.61,  a= -1.49,  b=  6.68\n",
      "ct=  3,  error=124.79,  a= -1.41,  b=  6.17\n",
      "ct=  4,  error=104.51,  a= -1.25,  b=  5.71\n",
      "ct=  5,  error= 87.35,  a= -1.08,  b=  5.30\n",
      "ct=  6,  error= 72.97,  a= -0.91,  b=  4.93\n",
      "ct=  7,  error= 60.98,  a= -0.76,  b=  4.59\n",
      "ct=  8,  error= 50.98,  a= -0.62,  b=  4.27\n",
      "ct=  9,  error= 42.65,  a= -0.50,  b=  3.99\n",
      "ct= 10,  error= 35.70,  a= -0.38,  b=  3.73\n",
      "ct= 11,  error= 29.91,  a= -0.28,  b=  3.49\n",
      "ct= 12,  error= 25.09,  a= -0.18,  b=  3.27\n",
      "ct= 13,  error= 21.07,  a= -0.09,  b=  3.08\n",
      "ct= 14,  error= 17.72,  a= -0.01,  b=  2.90\n",
      "ct= 15,  error= 14.93,  a=  0.06,  b=  2.73\n",
      "ct= 16,  error= 12.60,  a=  0.13,  b=  2.58\n",
      "ct= 17,  error= 10.67,  a=  0.19,  b=  2.44\n",
      "ct= 18,  error=  9.05,  a=  0.24,  b=  2.32\n",
      "ct= 19,  error=  7.71,  a=  0.29,  b=  2.20\n",
      "ct= 20,  error=  6.58,  a=  0.34,  b=  2.10\n",
      "ct= 21,  error=  5.65,  a=  0.38,  b=  2.00\n",
      "ct= 22,  error=  4.87,  a=  0.42,  b=  1.92\n",
      "ct= 23,  error=  4.22,  a=  0.46,  b=  1.84\n",
      "ct= 24,  error=  3.68,  a=  0.49,  b=  1.76\n",
      "ct= 25,  error=  3.23,  a=  0.52,  b=  1.70\n",
      "ct= 26,  error=  2.86,  a=  0.54,  b=  1.64\n",
      "ct= 27,  error=  2.54,  a=  0.57,  b=  1.58\n",
      "ct= 28,  error=  2.28,  a=  0.59,  b=  1.53\n",
      "ct= 29,  error=  2.06,  a=  0.61,  b=  1.49\n",
      "ct= 30,  error=  1.88,  a=  0.63,  b=  1.44\n",
      "ct= 31,  error=  1.73,  a=  0.65,  b=  1.40\n",
      "ct= 32,  error=  1.61,  a=  0.66,  b=  1.37\n",
      "ct= 33,  error=  1.50,  a=  0.68,  b=  1.34\n",
      "ct= 34,  error=  1.41,  a=  0.69,  b=  1.31\n",
      "ct= 35,  error=  1.34,  a=  0.70,  b=  1.28\n",
      "ct= 36,  error=  1.28,  a=  0.71,  b=  1.26\n",
      "ct= 37,  error=  1.23,  a=  0.72,  b=  1.24\n",
      "ct= 38,  error=  1.19,  a=  0.73,  b=  1.22\n",
      "ct= 39,  error=  1.15,  a=  0.74,  b=  1.20\n",
      "ct= 40,  error=  1.12,  a=  0.75,  b=  1.18\n",
      "ct= 41,  error=  1.10,  a=  0.75,  b=  1.16\n",
      "ct= 42,  error=  1.08,  a=  0.76,  b=  1.15\n",
      "ct= 43,  error=  1.06,  a=  0.77,  b=  1.14\n",
      "ct= 44,  error=  1.05,  a=  0.77,  b=  1.13\n",
      "ct= 45,  error=  1.04,  a=  0.78,  b=  1.12\n",
      "ct= 46,  error=  1.03,  a=  0.78,  b=  1.11\n",
      "ct= 47,  error=  1.02,  a=  0.78,  b=  1.10\n",
      "ct= 48,  error=  1.01,  a=  0.79,  b=  1.09\n",
      "ct= 49,  error=  1.01,  a=  0.79,  b=  1.08\n",
      "ct= 50,  error=  1.00,  a=  0.79,  b=  1.07\n",
      "ct= 51,  error=  1.00,  a=  0.80,  b=  1.07\n",
      "ct= 52,  error=  0.99,  a=  0.80,  b=  1.06\n",
      "ct= 53,  error=  0.99,  a=  0.80,  b=  1.06\n",
      "ct= 54,  error=  0.99,  a=  0.80,  b=  1.05\n",
      "ct= 55,  error=  0.99,  a=  0.80,  b=  1.05\n",
      "ct= 56,  error=  0.99,  a=  0.81,  b=  1.04\n",
      "ct= 57,  error=  0.98,  a=  0.81,  b=  1.04\n",
      "ct= 58,  error=  0.98,  a=  0.81,  b=  1.04\n",
      "ct= 59,  error=  0.98,  a=  0.81,  b=  1.03\n",
      "ct= 60,  error=  0.98,  a=  0.81,  b=  1.03\n",
      "ct= 61,  error=  0.98,  a=  0.81,  b=  1.03\n",
      "ct= 62,  error=  0.98,  a=  0.81,  b=  1.03\n",
      "ct= 63,  error=  0.98,  a=  0.82,  b=  1.02\n",
      "ct= 64,  error=  0.98,  a=  0.82,  b=  1.02\n",
      "ct= 65,  error=  0.98,  a=  0.82,  b=  1.02\n",
      "ct= 66,  error=  0.98,  a=  0.82,  b=  1.02\n",
      "ct= 67,  error=  0.98,  a=  0.82,  b=  1.02\n",
      "ct= 68,  error=  0.98,  a=  0.82,  b=  1.02\n",
      "ct= 69,  error=  0.98,  a=  0.82,  b=  1.02\n",
      "ct= 70,  error=  0.98,  a=  0.82,  b=  1.01\n",
      "ct= 71,  error=  0.98,  a=  0.82,  b=  1.01\n",
      "ct= 72,  error=  0.98,  a=  0.82,  b=  1.01\n",
      "ct= 73,  error=  0.98,  a=  0.82,  b=  1.01\n",
      "ct= 74,  error=  0.98,  a=  0.82,  b=  1.01\n",
      "ct= 75,  error=  0.98,  a=  0.82,  b=  1.01\n",
      "ct= 76,  error=  0.98,  a=  0.82,  b=  1.01\n",
      "ct= 77,  error=  0.98,  a=  0.82,  b=  1.01\n",
      "ct= 78,  error=  0.98,  a=  0.82,  b=  1.01\n",
      "ct= 79,  error=  0.98,  a=  0.82,  b=  1.01\n",
      "ct= 80,  error=  0.98,  a=  0.82,  b=  1.01\n",
      "ct= 81,  error=  0.98,  a=  0.82,  b=  1.01\n",
      "ct= 82,  error=  0.98,  a=  0.82,  b=  1.01\n",
      "ct= 83,  error=  0.98,  a=  0.82,  b=  1.01\n",
      "ct= 84,  error=  0.98,  a=  0.82,  b=  1.01\n",
      "ct= 85,  error=  0.98,  a=  0.82,  b=  1.01\n",
      "ct= 86,  error=  0.98,  a=  0.82,  b=  1.01\n",
      "ct= 87,  error=  0.98,  a=  0.82,  b=  1.01\n",
      "ct= 88,  error=  0.98,  a=  0.82,  b=  1.01\n",
      "ct= 89,  error=  0.98,  a=  0.82,  b=  1.01\n",
      "ct= 90,  error=  0.98,  a=  0.82,  b=  1.00\n",
      "ct= 91,  error=  0.98,  a=  0.82,  b=  1.00\n",
      "ct= 92,  error=  0.98,  a=  0.82,  b=  1.00\n",
      "ct= 93,  error=  0.98,  a=  0.82,  b=  1.00\n",
      "ct= 94,  error=  0.98,  a=  0.82,  b=  1.00\n",
      "ct= 95,  error=  0.98,  a=  0.82,  b=  1.00\n",
      "ct= 96,  error=  0.98,  a=  0.82,  b=  1.00\n",
      "ct= 97,  error=  0.98,  a=  0.82,  b=  1.00\n",
      "更新回数= 97\n",
      "a= 0.824471987211703\n",
      "b= 1.0039597319541047\n"
     ]
    },
    {
     "data": {
      "image/png": "[encoded data removed]",
      "text/plain": [
       "<Figure size 432x288 with 1 Axes>"
      ]
     },
     "metadata": {
      "needs_background": "light"
     },
     "output_type": "display_data"
    }
   ],
   "source": [
    "# 最急降下法を用いて，最小二乗法を行う\n",
    "\n",
    "# 求める関数\n",
    "def object_func(a, b, x):\n",
    "    y  = a*x + b\n",
    "    return y\n",
    "    \n",
    "# 損失関数\n",
    "def error_func(a, b, x, y):\n",
    "    error = 1.0/2.0 * sum((y-object_func(a, b, x))**2)\n",
    "    return error\n",
    "\n",
    "# 損失関数の偏微分:a\n",
    "def ｄerivative_a(a, b):\n",
    "    z =  sum((dataY-a*dataX-b)*(-dataX))\n",
    "    return z\n",
    "\n",
    "# 損失関数の偏微分:b\n",
    "def derivative_b(a, b):\n",
    "    z =  sum((dataY-a*dataX-b)*(-1))\n",
    "    return z\n",
    "\n",
    "# 最急降下法で損失関数の最小値をとるパラメータを求める．\n",
    "eta = 0.01\n",
    "a = 10\n",
    "b =10\n",
    "\n",
    "# 終了条件\n",
    "epsilon = 0.0001\n",
    "old_para_a = a\n",
    "old_para_b = b\n",
    "\n",
    "history = np.zeros((0,4))\n",
    "\n",
    "ct = 0\n",
    "for i in range(1000):\n",
    "    # 更新式\n",
    "    a = a - eta*derivative_a(a, b)\n",
    "    b = b - eta*derivative_b(a, b)\n",
    "    error = error_func(a, b, dataX, dataY)\n",
    "    \n",
    "    #print('ct={:d}'.format(ct),', error={:.2f}'.format(error),', a={:.2f}'.format(a), ', b={:.2f}'.format(b))\n",
    "    print( \"ct=%3d,  error=%6.2f,  a=%6.2f,  b=%6.2f\" % (ct, error, a, b))\n",
    "    \n",
    "    history = np.vstack((history, [ct, error, a, b]))\n",
    "    \n",
    "    if abs(old_para_a-a)<epsilon and abs(old_para_b-b)<epsilon :\n",
    "        break\n",
    "\n",
    "    old_para_a = a\n",
    "    old_para_b = b\n",
    "\n",
    "    ct+=1\n",
    "\n",
    "# 更新回数\n",
    "print('更新回数=', ct)\n",
    "\n",
    "# 求めたパラメータ\n",
    "print('a=', a)\n",
    "print('b=', b)\n",
    "\n",
    "\n",
    "#\n",
    "# 最急降下法で求めたパラメータを使って，グラフ表示\n",
    "#\n",
    "def mathfunc(x):\n",
    "    y = a*x+b\n",
    "    return y\n",
    "\n",
    "# グラフ描画のためのデータ作成\n",
    "xmin = -1.0\n",
    "xmax = 4.0\n",
    "num = 100\n",
    "x = np.linspace(xmin, xmax, num)\n",
    "y = mathfunc(x)\n",
    "\n",
    "# グラフ描画\n",
    "plt.plot(x, y, color='red')\n",
    "plt.scatter(dataX, dataY)\n",
    "plt.xlim(xmin, xmax)\n",
    "plt.grid(True)\n",
    "plt.show()"
   ]
  },
  {
   "cell_type": "code",
   "execution_count": 26,
   "metadata": {},
   "outputs": [
    {
     "data": {
      "image/png": "[encoded data removed]",
      "text/plain": [
       "<Figure size 432x288 with 1 Axes>"
      ]
     },
     "metadata": {
      "needs_background": "light"
     },
     "output_type": "display_data"
    }
   ],
   "source": [
    "# 学習曲線の表示\n",
    "plt.plot(history[:,0], history[:,1])\n",
    "plt.grid()\n",
    "plt.show()"
   ]
  },
  {
   "cell_type": "markdown",
   "metadata": {},
   "source": [
    "せっかくなのでアニメーションで動作を見てみる！"
   ]
  }
 ],
 "metadata": {
  "kernelspec": {
   "display_name": "Python 3",
   "language": "python",
   "name": "python3"
  },
  "language_info": {
   "codemirror_mode": {
    "name": "ipython",
    "version": 3
   },
   "file_extension": ".py",
   "mimetype": "text/x-python",
   "name": "python",
   "nbconvert_exporter": "python",
   "pygments_lexer": "ipython3",
   "version": "3.7.4"
  }
 },
 "nbformat": 4,
 "nbformat_minor": 2
}
