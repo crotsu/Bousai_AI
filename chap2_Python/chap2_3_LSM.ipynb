{
 "cells": [
  {
   "cell_type": "markdown",
   "metadata": {},
   "source": [
    "# 最小二乗法をやってみよう！"
   ]
  },
  {
   "cell_type": "markdown",
   "metadata": {},
   "source": [
    "このページは以下のリンクより， google colaboratoryから動作させることができる．\n",
    "- [Open with Colab](https://colab.research.google.com/github/crotsu/Bousai_AI/blob/master/chap2_Python/chap2_3_LSM.ipynb)"
   ]
  },
  {
   "cell_type": "markdown",
   "metadata": {},
   "source": [
    "ここでは，PythonとライブラリのNumpyに慣れるために，最小二乗法を実装してみることにする．"
   ]
  },
  {
   "cell_type": "markdown",
   "metadata": {},
   "source": [
    "## 目次\n",
    "1. 最小二乗法とは\n",
    "1. 真のモデルからデータを生成する\n",
    "1. データは真のモデルにノイズ（正規乱数）の影響を受ける\n",
    "1. 最小二乗法を適用する(次数1の近似関数を愚直に求める)\n",
    "1. 最小二乗法を適用する(Numpyライブラリで一発で求める)\n",
    "1. デモ（次数可変版）"
   ]
  },
  {
   "cell_type": "markdown",
   "metadata": {},
   "source": [
    "## 1. 最小二乗法とは"
   ]
  },
  {
   "cell_type": "markdown",
   "metadata": {},
   "source": [
    "複雑なデータや関数を簡単な関数の和で近似する代表的な手法が「最小二乗法」である．  \n",
    "これはコンピュータによるデータ解析でよく用いられる手法である．  \n",
    "\n",
    "$N$個のデータ$(x_1, y_1), \\ldots, (x_N, y_N)$に直線を当てはめたいとする．  \n",
    "当てはめたい直線を$y=ax+b$と置く．  \n",
    "$a, b$はこれから定める未知の定数である．  \n",
    "\n",
    "理想的には$y_\\alpha=ax_\\alpha+b, \\alpha=1, \\ldots, N$，となることが望ましいが，  \n",
    "データ点${(x_\\alpha, y_\\alpha)}$が厳密に同一直線上にあるとは限らないので，  \n",
    "$a, b$をどう選んでも多くの$\\alpha$に対して$y_\\alpha \\neq ax_\\alpha+b$となる．  \n",
    "\n",
    "そこで\n",
    "$$\n",
    " y_\\alpha \\approx ax_\\alpha+b, \\hspace{0.7cm} \\alpha=1,\\ldots, N \n",
    "$$\n",
    "\n",
    "となるように$a, b$を定める．  \n",
    "記号$\\approx$は「ほぼ等しい」という意味である．  \n",
    "\n",
    "ある直線の関数$f(x)=ax+b$とデータ点との誤差を以下の損失関数で表す．\n",
    "\n",
    "$$\n",
    " J(a, b)=\\frac{1}{2}\\sum_{\\alpha=1}^N(y_\\alpha - (ax_\\alpha+b))^2\n",
    "$$\n",
    "\n",
    "ここで1/2は後の計算を見やすくするためである．  \n",
    "（実は1/2がなくてもいい． 損失関数は自分で決定するというところが大事．）  \n",
    "（というか，123/77でも結局同じ式が導出されるんだけどね．．．）  \n",
    "最小二乗法はこの損失関数が最小になるようにパラメータ$a,b$を求める手法である．"
   ]
  },
  {
   "cell_type": "markdown",
   "metadata": {},
   "source": [
    "<img src=\"img/lsm.png\" width=\"400\">\n",
    "<div style=\"text-align: center;\">\n",
    "図1.  データへの直線の当てはめ\n",
    "</div>"
   ]
  },
  {
   "cell_type": "markdown",
   "metadata": {},
   "source": [
    "### 1次の最小二乗法の正規方程式を導出する\n",
    "\n",
    "損失関数Jは$a, b$の関数である.  \n",
    "解析学で知られるように多変数の関数が最大値や最小値をとる点では，各変数に関する偏導関数が0でなければならない．  \n",
    "したがって，\n",
    "\n",
    "$$\n",
    "\\frac{\\partial J(a, b)}{\\partial a}=0, \\hspace{1cm} \\frac{\\partial J(a, b)}{\\partial b}=0\n",
    "$$\n",
    "\n",
    "を解いて$a, b$を定めればよい．  \n",
    "損失関数Jを$a, b$でそれぞれ偏微分すると次式を得る．\n",
    "\n",
    "$$\n",
    "\\frac{\\partial J(a, b)}{\\partial a} = \\sum_{\\alpha=1}^N(y_\\alpha -\n",
    "  ax_\\alpha-b)(-x_\\alpha) = a \\sum_{\\alpha=1}^N x_\\alpha ^2 +\n",
    "  b\\sum_{\\alpha=1}^N x_\\alpha - \\sum_{\\alpha=1}^N x_\\alpha y_\\alpha = 0\n",
    "$$\n",
    "\n",
    "$$\n",
    "\\frac{\\partial J(a, b)}{\\partial b} = \\sum_{\\alpha=1}^N(y_\\alpha -\n",
    "  ax_\\alpha-b)(-1) = a \\sum_{\\alpha=1}^N x_\\alpha +\n",
    "  b\\sum_{\\alpha=1}^N 1 - \\sum_{\\alpha=1}^N y_\\alpha = 0\n",
    "$$\n",
    "\n",
    "これから次の連立1次方程式を得る．  \n",
    "\n",
    "$$\n",
    " \\begin{pmatrix}\n",
    "  \\sum_{\\alpha=1}^N x_\\alpha ^2 & \\sum_{\\alpha=1}^N x_\\alpha \\\\\n",
    "  \\sum_{\\alpha=1}^N x_\\alpha & \\sum_{\\alpha=1}^N 1\n",
    " \\end{pmatrix}\n",
    " \\begin{pmatrix}\n",
    "  a \\\\ b\n",
    " \\end{pmatrix}\n",
    "=\n",
    "  \\begin{pmatrix}\n",
    "   \\sum_{\\alpha=1}^N x_\\alpha y_\\alpha \\\\ \\sum_{\\alpha=1}^N y_\\alpha\n",
    "  \\end{pmatrix}\n",
    "$$\n",
    "\n",
    "これを正規方程式という．  \n",
    "これは連立1次方程式なので，これを解いて$a,b$が定まる．"
   ]
  },
  {
   "cell_type": "markdown",
   "metadata": {},
   "source": [
    "### 2次の最小二乗法の正規方程式を導出する．\n",
    "\n",
    "先程は求めようとする関数が1次式，つまり直線だった．  \n",
    "2次式，つまり2次曲線$f(x)=ax^2+bx+c$でも同様の方法で求めることができる．  \n",
    "\n",
    "当てはめる2次式を$y=ax^2+bx+c$とし，\n",
    "$$\n",
    " y_\\alpha \\approx ax_\\alpha^2+bx+c, \\hspace{0.7cm} \\alpha=1,\\ldots, N \n",
    "$$\n",
    "となる．\n",
    "\n",
    "次に損失関数を定める．  \n",
    "2次曲線の関数$f(x)=ax^2+bx+c$の損失関数は以下になる．  \n",
    "\n",
    "$$\n",
    " J(a, b, c)=\\frac{1}{2}\\sum_{\\alpha=1}^N(y_\\alpha - (ax^2_\\alpha+bx_\\alpha+c))^2\n",
    "$$\n",
    "\n",
    "損失関数Jは$a, b, c$の関数である.  \n",
    "$a, b, c$を求めるためには以下を解けばよい．  \n",
    "\n",
    "$$\n",
    "\\frac{\\partial J(a, b, c)}{\\partial a}=0, \\hspace{0.7cm} \\frac{\\partial J(a, b, c)}{\\partial b}=0, \\hspace{0.7cm} \\frac{\\partial J(a, b, c)}{\\partial c}=0\n",
    "$$\n",
    "\n",
    "を解いて$a, b, c$を定めればよい．  \n",
    "\n",
    "損失関数J(a, b, c)を$a, b, c$でそれぞれ偏微分すると次式を得る．\n",
    "\n",
    "$$\n",
    "  \\frac{\\partial J(a, b, c)}{\\partial a} = \\sum_{\\alpha=1}^N(y_\\alpha -\n",
    "  ax_\\alpha^2-bx-c)(-x_\\alpha^2) = a \\sum_{\\alpha=1}^N x_\\alpha ^4 +\n",
    "  b\\sum_{\\alpha=1}^N x_\\alpha^3 + c\\sum_{\\alpha=1}^N x_\\alpha^2\n",
    "  - \\sum_{\\alpha=1}^N x_\\alpha^2 y_\\alpha = 0\n",
    "$$\n",
    "\n",
    "$$\n",
    "  \\frac{\\partial J(a, b, c)}{\\partial b} = \\sum_{\\alpha=1}^N(y_\\alpha -\n",
    "  ax_\\alpha^2-bx_\\alpha-c)(-x\\alpha) = a \\sum_{\\alpha=1}^N x_\\alpha^3 +\n",
    "  b\\sum_{\\alpha=1}^N x_\\alpha^2 + c\\sum_{\\alpha=1}^N x_\\alpha\n",
    "  - \\sum_{\\alpha=1}^N x_\\alpha y_\\alpha = 0\n",
    "$$\n",
    "\n",
    "$$\n",
    "  \\frac{\\partial J(a, b, c)}{\\partial c} = \\sum_{\\alpha=1}^N(y_\\alpha -\n",
    "  ax_\\alpha^2-bx_\\alpha-c)(-1) = a \\sum_{\\alpha=1}^N x_\\alpha^2 +\n",
    "  b\\sum_{\\alpha=1}^N x_\\alpha + c\\sum_{\\alpha=1}^N 1\n",
    "  - \\sum_{\\alpha=1}^N y_\\alpha = 0\n",
    "$$\n",
    "\n",
    "これから次の連立1次方程式を得る．  \n",
    "\n",
    "$$\n",
    " \\begin{pmatrix}\n",
    "  \\sum_{\\alpha=1}^N x_\\alpha ^4 & \\sum_{\\alpha=1}^N x_\\alpha^3 &\n",
    "  \\sum_{\\alpha=1}^N x_\\alpha^2 \\\\\n",
    "  \\sum_{\\alpha=1}^N x_\\alpha ^3 & \\sum_{\\alpha=1}^N x_\\alpha^2 &\n",
    "  \\sum_{\\alpha=1}^N x_\\alpha \\\\\n",
    "  \\sum_{\\alpha=1}^N x_\\alpha ^2 & \\sum_{\\alpha=1}^N x_\\alpha &\n",
    "  \\sum_{\\alpha=1}^N 1\\\\\n",
    " \\end{pmatrix}\n",
    " \\begin{pmatrix}\n",
    "  a \\\\ b \\\\ c\n",
    " \\end{pmatrix}\n",
    "=\n",
    "  \\begin{pmatrix}\n",
    "   \\sum_{\\alpha=1}^N x_\\alpha^2 y_\\alpha \\\\ \\sum_{\\alpha=1}^N x_\\alpha\n",
    "   y_\\alpha \\\\ \\sum_{\\alpha=1}^N y_\\alpha\n",
    "  \\end{pmatrix}\n",
    "$$\n",
    "\n",
    "この連立1次方程式を解いて$a,b,c$が定まる．\n",
    "\n",
    "同様に行えば，$n$次の最小二乗法でも求めることができる．"
   ]
  },
  {
   "cell_type": "markdown",
   "metadata": {},
   "source": [
    "## 2. 真のモデルからデータを生成する"
   ]
  },
  {
   "cell_type": "markdown",
   "metadata": {},
   "source": [
    "真のモデルとして，以下の関数を仮定する．\n",
    "\n",
    "$$\n",
    "f(x) = x^4-8x^3+18x^2-3x+1\n",
    "$$"
   ]
  },
  {
   "cell_type": "code",
   "execution_count": null,
   "metadata": {},
   "outputs": [],
   "source": [
    "import numpy as np\n",
    "import matplotlib.pyplot as plt\n",
    "\n",
    "# 真のモデル\n",
    "def mathfunc(x):\n",
    "    y = x**4 - 8*x**3 + 18*x**2 - 3*x + 1\n",
    "    return y\n",
    "\n",
    "# 定義域（xの範囲: -1.0から4.5）\n",
    "# 生成するデータの個数は100個\n",
    "xmin = -1.0\n",
    "xmax = 4.5\n",
    "num = 100\n",
    "\n",
    "# xを連番で生成する．\n",
    "dataX = np.linspace(xmin, xmax, num)\n",
    "\n",
    "# ｘからｙを生成する．\n",
    "dataY = mathfunc(dataX)\n",
    "\n",
    "# グラフ表示\n",
    "plt.scatter(dataX, dataY)\n",
    "plt.xlim(xmin, xmax)\n",
    "plt.grid(True)\n",
    "plt.show()"
   ]
  },
  {
   "cell_type": "markdown",
   "metadata": {},
   "source": [
    "## 3. データは真のモデルにノイズ（正規乱数）の影響を受ける"
   ]
  },
  {
   "cell_type": "code",
   "execution_count": null,
   "metadata": {},
   "outputs": [],
   "source": [
    "import numpy as np\n",
    "import matplotlib.pyplot as plt\n",
    "\n",
    "# 真のモデル\n",
    "def mathfunc(x):\n",
    "    y = x**4 - 8*x**3 + 18*x**2 - 3*x + 1\n",
    "    return y\n",
    "\n",
    "# 定義域（xの範囲: -1.0から4.5）\n",
    "# 生成するデータの個数は100個\n",
    "xmin = -1.0\n",
    "xmax = 4.5\n",
    "num = 100\n",
    "\n",
    "# 乱数の種を設定\n",
    "np.random.seed(0)\n",
    "\n",
    "# ランダムにxを生成して，昇順にソート\n",
    "dataX = (xmax - xmin) * np.random.rand(num) + xmin\n",
    "dataX = np.sort(dataX)\n",
    "\n",
    "# xからｙを生成する\n",
    "dataY = mathfunc(dataX)\n",
    "\n",
    "# yにノイズ（正規乱数（平均0．0， 標準偏差2.0））を加える\n",
    "dataY += np.random.normal(loc=0.0, scale=2.0, size=num)\n",
    "\n",
    "# グラフ表示\n",
    "plt.scatter(dataX, dataY)\n",
    "plt.xlim(xmin, xmax)\n",
    "plt.grid(True)\n",
    "plt.show()"
   ]
  },
  {
   "cell_type": "code",
   "execution_count": null,
   "metadata": {},
   "outputs": [],
   "source": [
    "# データの確認 (x)\n",
    "dataX"
   ]
  },
  {
   "cell_type": "code",
   "execution_count": null,
   "metadata": {},
   "outputs": [],
   "source": [
    "# データの確認 (y)\n",
    "dataY"
   ]
  },
  {
   "cell_type": "markdown",
   "metadata": {},
   "source": [
    "## 4. 最小二乗法を適用する(次数1の近似関数を愚直に求める)\n",
    "次数1，つまりy=ax+bの直線で近似する．"
   ]
  },
  {
   "cell_type": "code",
   "execution_count": null,
   "metadata": {},
   "outputs": [],
   "source": [
    "# 連立1次方程式 Ax = bの行列Aとベクトルbを求める\n",
    "# 次数1のとき，正規方程式の行列は2行2列になる\n",
    "\n",
    "# 行列AとベクトルBを0で初期化\n",
    "matrixA = np.zeros((2,2))\n",
    "b = np.zeros((2,1))"
   ]
  },
  {
   "cell_type": "code",
   "execution_count": null,
   "metadata": {},
   "outputs": [],
   "source": [
    "matrixA[0,0] = sum(dataX * dataX)\n",
    "matrixA[0,1] = sum(dataX)\n",
    "matrixA[1,0] = sum(dataX)\n",
    "matrixA[1,1] = len(dataX)\n",
    "\n",
    "b[0,0] = sum(dataX*dataY)\n",
    "b[1,0] = sum(dataY)"
   ]
  },
  {
   "cell_type": "code",
   "execution_count": null,
   "metadata": {},
   "outputs": [],
   "source": [
    "# データの確認\n",
    "matrixA"
   ]
  },
  {
   "cell_type": "code",
   "execution_count": null,
   "metadata": {},
   "outputs": [],
   "source": [
    "# データの確認\n",
    "b"
   ]
  },
  {
   "cell_type": "code",
   "execution_count": null,
   "metadata": {},
   "outputs": [],
   "source": [
    "# 連立1次方程式 Ax = bを解く\n",
    "#\n",
    "# 公式を使って逆行列を求めて，解を求める\n",
    "\n",
    "inv = 1/(matrixA[0,0]*matrixA[1,1] - matrixA[0,1]*matrixA[1,0])*np.array([[matrixA[1,1],-1*matrixA[1,0]],[-1*matrixA[1,0],matrixA[0,0]]])\n",
    "ans = np.dot(inv, b)\n",
    "print(ans)"
   ]
  },
  {
   "cell_type": "markdown",
   "metadata": {},
   "source": [
    "2行2列の行列Aの逆行列は以下の公式で求められる．  \n",
    "$$\n",
    "A = \n",
    "\\begin{pmatrix}\n",
    "    a & b\\\\\n",
    "    c & d\n",
    "\\end{pmatrix}\n",
    "$$\n",
    "\n",
    "$$\n",
    "A^{-1}\n",
    "=\n",
    "\\frac{1}{ad-bc}\n",
    "\\begin{pmatrix}\n",
    "    d & -b\\\\\n",
    "    -c & a\n",
    "\\end{pmatrix}\n",
    "$$"
   ]
  },
  {
   "cell_type": "code",
   "execution_count": null,
   "metadata": {},
   "outputs": [],
   "source": [
    "# 連立1次方程式 Ax = bを解く\n",
    "#\n",
    "# Numpyで逆行列を求めて，解を求める\n",
    "\n",
    "inv = np.linalg.inv(matrixA)\n",
    "ans = np.dot(inv, b)\n",
    "print(ans)"
   ]
  },
  {
   "cell_type": "code",
   "execution_count": null,
   "metadata": {},
   "outputs": [],
   "source": [
    "# 連立1次方程式 Ax = bを解く\n",
    "#\n",
    "# Numpyで連立1次方程式を解く\n",
    "# 数値計算的には，この方法がベスト\n",
    "# 解が求まるなら逆行列を求める必要はないから\n",
    "\n",
    "ans = np.linalg.solve(matrixA, b)\n",
    "print(ans)"
   ]
  },
  {
   "cell_type": "code",
   "execution_count": null,
   "metadata": {},
   "outputs": [],
   "source": [
    "# 求めたパラメータをグラフに表示する\n",
    "\n",
    "# 求めた関数\n",
    "def solve_func(x):\n",
    "    y = ans[0] * x + ans[1]\n",
    "    return y\n",
    "\n",
    "# 定義域（xの範囲: -1.0から4.5）\n",
    "# 生成するデータの個数は100個\n",
    "xmin = -1.0\n",
    "xmax = 4.5\n",
    "num = 100 \n",
    "\n",
    "# xを生成\n",
    "# xminからxmaxまでをnum個で区切る\n",
    "x = np.linspace(xmin, xmax, num)\n",
    "\n",
    "# ｘからｙを生成する．\n",
    "y = solve_func(x)\n",
    "\n",
    "# グラフ表示\n",
    "plt.plot(x, y, color='red') # 求めたパラメータから直線を引く\n",
    "\n",
    "plt.scatter(dataX, dataY) # 散布図\n",
    "plt.xlim(xmin, xmax)\n",
    "plt.grid(True)\n",
    "plt.show()"
   ]
  },
  {
   "cell_type": "markdown",
   "metadata": {},
   "source": [
    "## 5. 最小二乗法を適用する(Numpyライブラリで一発で求める)\n",
    "実はライブラリを使えば，もっと簡単に求めることができる．"
   ]
  },
  {
   "cell_type": "code",
   "execution_count": null,
   "metadata": {},
   "outputs": [],
   "source": [
    "# numpyのライブラリを使ってパラメータを求める(次数1)\n",
    "ans = np.polyfit(dataX, dataY, 1)\n",
    "print(ans)"
   ]
  },
  {
   "cell_type": "code",
   "execution_count": null,
   "metadata": {},
   "outputs": [],
   "source": [
    "# numpyのライブラリを使ってパラメータを求める(次数4)\n",
    "ans = np.polyfit(dataX, dataY, 4)\n",
    "print(ans)"
   ]
  },
  {
   "cell_type": "markdown",
   "metadata": {},
   "source": [
    "次数4に対応させるために関数を修正する必要がある"
   ]
  },
  {
   "cell_type": "code",
   "execution_count": null,
   "metadata": {},
   "outputs": [],
   "source": [
    "# 求めたパラメータをグラフに表示する\n",
    "\n",
    "# 求めた関数\n",
    "def solve_func(x):\n",
    "    y = ans[0]*x*x*x*x + ans[1]*x*x*x + ans[2]*x*x + ans[3]*x + ans[4]\n",
    "    return y\n",
    "\n",
    "# 定義域（xの範囲: -1.0から4.5）\n",
    "# 生成するデータの個数は100個\n",
    "xmin = -1.0\n",
    "xmax = 4.5\n",
    "num = 100 \n",
    "\n",
    "# xを生成\n",
    "# xminからxmaxまでをnum個で区切る\n",
    "x = np.linspace(xmin, xmax, num)\n",
    "\n",
    "# ｘからｙを生成する．\n",
    "y = solve_func(x)\n",
    "\n",
    "# グラフ表示\n",
    "plt.plot(x, y, color='red')\n",
    "\n",
    "plt.scatter(dataX, dataY) # 散布図\n",
    "plt.xlim(xmin, xmax)\n",
    "plt.grid(True)\n",
    "plt.show()"
   ]
  },
  {
   "cell_type": "markdown",
   "metadata": {},
   "source": [
    "## 6. デモ（次数可変版）\n",
    "次数が増減してもそれに応じて関数を修正する必要がないプログラムを示す．\n",
    "データ生成と最小二乗法のプログラムを以下にまとめるので，パラメータをいろいろ変更して試してみると良い．"
   ]
  },
  {
   "cell_type": "markdown",
   "metadata": {},
   "source": [
    "### データ生成\n",
    "データの個数，乱数の種，標準偏差を変更して様々なデータを生成できる．"
   ]
  },
  {
   "cell_type": "code",
   "execution_count": 14,
   "metadata": {},
   "outputs": [
    {
     "data": {
      "image/png": "[encoded data removed]",
      "text/plain": [
       "<Figure size 432x288 with 1 Axes>"
      ]
     },
     "metadata": {
      "needs_background": "light"
     },
     "output_type": "display_data"
    }
   ],
   "source": [
    "import numpy as np\n",
    "import matplotlib.pyplot as plt\n",
    "\n",
    "# 真のモデル\n",
    "def mathfunc(x):\n",
    "    y = x**4 - 8*x**3 + 18*x**2 - 3*x + 1\n",
    "    return y\n",
    "\n",
    "# 定義域（xの範囲: -1.0から4.5）\n",
    "# 生成するデータの個数は100個\n",
    "xmin = -1.0\n",
    "xmax = 4.5\n",
    "num = 100\n",
    "\n",
    "# 乱数の種を設定\n",
    "np.random.seed(0)\n",
    "\n",
    "# ランダムにxを生成して，昇順にソート\n",
    "dataX = (xmax - xmin) * np.random.rand(num) + xmin\n",
    "dataX = np.sort(dataX)\n",
    "\n",
    "# xからｙを生成する\n",
    "dataY = mathfunc(dataX)\n",
    "\n",
    "# yにノイズ（正規乱数（平均0．0， 標準偏差2.0））を加える\n",
    "dataY += np.random.normal(loc=0.0, scale=2.0, size=num)\n",
    "\n",
    "# グラフ表示\n",
    "plt.scatter(dataX, dataY) # 散布図\n",
    "plt.xlim(xmin, xmax)\n",
    "plt.grid(True)\n",
    "plt.show()"
   ]
  },
  {
   "cell_type": "markdown",
   "metadata": {},
   "source": [
    "### 最小二乗法\n",
    "次数を変更して実行できる．"
   ]
  },
  {
   "cell_type": "code",
   "execution_count": 16,
   "metadata": {},
   "outputs": [
    {
     "data": {
      "image/png": "[encoded data removed]",
      "text/plain": [
       "<Figure size 432x288 with 1 Axes>"
      ]
     },
     "metadata": {
      "needs_background": "light"
     },
     "output_type": "display_data"
    }
   ],
   "source": [
    "# 次数\n",
    "dim = 4\n",
    "\n",
    "# 最小二乗法でパラメータを求める．\n",
    "ans = np.polyfit(dataX, dataY, dim)\n",
    "\n",
    "\n",
    "# 求めたパラメータをグラフに表示する\n",
    "\n",
    "# 定義域（xの範囲: -1.0から4.5）\n",
    "# 生成するデータの個数は100個\n",
    "xmin = -1.0\n",
    "xmax = 4.5\n",
    "num = 100 \n",
    "\n",
    "# xを生成\n",
    "# xminからxmaxまでをnum個で区切る\n",
    "x = np.linspace(xmin, xmax, num)\n",
    "\n",
    "# ｘからｙを生成する．\n",
    "y = np.poly1d(ans)(x)\n",
    "\n",
    "# グラフ表示\n",
    "# 求めたパラメータから，それを係数とする多項式を作る．\n",
    "plt.plot(x, y, color='red')\n",
    "\n",
    "plt.scatter(dataX, dataY)\n",
    "plt.xlim(xmin, xmax)\n",
    "plt.grid(True)\n",
    "plt.show()"
   ]
  },
  {
   "cell_type": "markdown",
   "metadata": {},
   "source": [
    "### 演習\n",
    "生成するデータを100個から20個に変更してみよう．  \n",
    "\n",
    "最小二乗法で次数3の関数を求めてみよう．  \n",
    "最小二乗法で次数10の関数を求めてみよう．  \n",
    "次数を増やすと，ノイズまで学習し，過学習していることがわかる．  \n",
    "\n",
    "次に，最小二乗法で次数10のままで，生成するデータを200個にしてみよう．   \n",
    "今度は，過学習をしていないことがわかる．  \n",
    "データ数が多くなれば，パラメータが多くても過学習を抑えることができる．  "
   ]
  }
 ],
 "metadata": {
  "kernelspec": {
   "display_name": "Python 3",
   "language": "python",
   "name": "python3"
  },
  "language_info": {
   "codemirror_mode": {
    "name": "ipython",
    "version": 3
   },
   "file_extension": ".py",
   "mimetype": "text/x-python",
   "name": "python",
   "nbconvert_exporter": "python",
   "pygments_lexer": "ipython3",
   "version": "3.7.4"
  }
 },
 "nbformat": 4,
 "nbformat_minor": 2
}
