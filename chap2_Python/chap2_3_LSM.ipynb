{
 "cells": [
  {
   "cell_type": "markdown",
   "metadata": {},
   "source": [
    "# 最小二乗法をやってみよう"
   ]
  },
  {
   "cell_type": "markdown",
   "metadata": {},
   "source": [
    "ここでは，PythonとライブラリのNumpyに慣れるために，最小二乗法を実装してみることにする．"
   ]
  },
  {
   "cell_type": "markdown",
   "metadata": {},
   "source": [
    "## 目次\n",
    "1. 真のモデルからデータを生成する\n",
    "1. 真のモデルにノイズ（正規乱数）の影響を与えて生成する\n",
    "1. 最小二乗法を適用する(次数1の近似関数を愚直に求める)\n",
    "1. 最小二乗法を適用する(Numpyライブラリで一発で求める)\n",
    "1. デモ（次数可変版）"
   ]
  },
  {
   "cell_type": "markdown",
   "metadata": {},
   "source": [
    "## 1. 真のモデルからデータを生成する"
   ]
  },
  {
   "cell_type": "markdown",
   "metadata": {},
   "source": [
    "真のモデルとして，以下の関数を仮定する．\n",
    "\n",
    "$$\n",
    "f(x) = x^4-8x^3+18x^2-3x+1\n",
    "$$"
   ]
  },
  {
   "cell_type": "code",
   "execution_count": 66,
   "metadata": {},
   "outputs": [
    {
     "data": {
      "image/png": "[encoded data removed]",
      "text/plain": [
       "<Figure size 432x288 with 1 Axes>"
      ]
     },
     "metadata": {
      "needs_background": "light"
     },
     "output_type": "display_data"
    }
   ],
   "source": [
    "import numpy as np\n",
    "import matplotlib.pyplot as plt\n",
    "\n",
    "# 真のモデル\n",
    "def mathfunc(x):\n",
    "    y = x**4 - 8*x**3 + 18*x**2 - 3*x + 1\n",
    "    return y\n",
    "\n",
    "# 定義域（xの範囲: -1.0から4.5）\n",
    "# 生成するデータの個数は100個\n",
    "xmin = -1.0\n",
    "xmax = 4.5\n",
    "num = 100\n",
    "\n",
    "# xを連番で生成する．\n",
    "dataX = np.linspace(xmin, xmax, num)\n",
    "\n",
    "# ｘからｙを生成する．\n",
    "dataY = mathfunc(dataX)\n",
    "\n",
    "# グラフ表示\n",
    "plt.scatter(dataX, dataY)\n",
    "plt.xlim(xmin, xmax)\n",
    "plt.grid(True)\n",
    "plt.show()"
   ]
  },
  {
   "cell_type": "markdown",
   "metadata": {},
   "source": [
    "## 2. データは，真のモデルにノイズ（正規乱数）の影響を受ける"
   ]
  },
  {
   "cell_type": "code",
   "execution_count": 67,
   "metadata": {},
   "outputs": [
    {
     "data": {
      "image/png": "[encoded data removed]",
      "text/plain": [
       "<Figure size 432x288 with 1 Axes>"
      ]
     },
     "metadata": {
      "needs_background": "light"
     },
     "output_type": "display_data"
    }
   ],
   "source": [
    "import numpy as np\n",
    "import matplotlib.pyplot as plt\n",
    "\n",
    "# 真のモデル\n",
    "def mathfunc(x):\n",
    "    y = x**4 - 8*x**3 + 18*x**2 - 3*x + 1\n",
    "    return y\n",
    "\n",
    "# 定義域（xの範囲: -1.0から4.5）\n",
    "# 生成するデータの個数は100個\n",
    "xmin = -1.0\n",
    "xmax = 4.5\n",
    "num = 100\n",
    "\n",
    "# 乱数の種を設定\n",
    "np.random.seed(0)\n",
    "\n",
    "# ランダムにxを生成して，昇順にソート\n",
    "dataX = (xmax - xmin) * np.random.rand(num) + xmin\n",
    "dataX = np.sort(dataX)\n",
    "\n",
    "# xからｙを生成する\n",
    "dataY = mathfunc(dataX)\n",
    "\n",
    "# yにノイズ（正規乱数（平均0．0， 標準偏差2.0））を加える\n",
    "dataY += np.random.normal(loc=0.0, scale=2.0, size=num)\n",
    "\n",
    "# グラフ表示\n",
    "plt.scatter(dataX, dataY)\n",
    "plt.xlim(xmin, xmax)\n",
    "plt.grid(True)\n",
    "plt.show()"
   ]
  },
  {
   "cell_type": "code",
   "execution_count": 68,
   "metadata": {},
   "outputs": [
    {
     "data": {
      "text/plain": [
       "array([-0.97417488, -0.8966561 , -0.8894085 , -0.88879881, -0.78446714,\n",
       "       -0.66875991, -0.64718877, -0.60930168, -0.52078885, -0.48332719,\n",
       "       -0.47145876, -0.46594298, -0.43875354, -0.39293672, -0.34949066,\n",
       "       -0.34699755, -0.33891891, -0.29090536, -0.27511176, -0.23999377,\n",
       "       -0.21155692, -0.12566729, -0.11279765,  0.00755249,  0.08120299,\n",
       "        0.14882216,  0.15710409,  0.34434076,  0.39310381,  0.45505587,\n",
       "        0.4596422 ,  0.55543829,  0.59173351,  0.62877109,  0.73485593,\n",
       "        0.74890749,  0.75212924,  0.97729345,  1.00040924,  1.02798844,\n",
       "        1.10892835,  1.27844647,  1.28064067,  1.3301014 ,  1.40367575,\n",
       "        1.40672966,  1.41230832,  1.50882683,  1.53813649,  1.56470925,\n",
       "        1.57758161,  1.87016577,  1.87786429,  1.90892206,  1.99685751,\n",
       "        2.01847427,  2.116308  ,  2.12424509,  2.12638672,  2.13608224,\n",
       "        2.16770573,  2.22582114,  2.31519857,  2.32665036,  2.36652647,\n",
       "        2.39313698,  2.39699523,  2.51956562,  2.55241762,  2.59209579,\n",
       "        2.60981274,  2.66721693,  2.67075709,  2.68850828,  2.75001165,\n",
       "        2.80859666,  2.83697158,  2.93354152,  2.93979962,  3.06594969,\n",
       "        3.25828529,  3.27986213,  3.29291047,  3.35448771,  3.3953721 ,\n",
       "        3.51546276,  3.55917016,  3.57940915,  3.60869699,  3.78506682,\n",
       "        3.9047515 ,  4.09078151,  4.11112909,  4.19061443,  4.19567904,\n",
       "        4.30014518,  4.37052706,  4.37218599,  4.38240088,  4.43605611])"
      ]
     },
     "execution_count": 68,
     "metadata": {},
     "output_type": "execute_result"
    }
   ],
   "source": [
    "# データの確認 (x)\n",
    "dataX"
   ]
  },
  {
   "cell_type": "code",
   "execution_count": 69,
   "metadata": {},
   "outputs": [
    {
     "data": {
      "text/plain": [
       "array([26.97122407, 26.37711925, 25.09267572, 21.05423889, 21.64762333,\n",
       "       17.44116657, 15.18254025, 11.09797337,  6.50639176,  9.72161138,\n",
       "        6.49669006,  9.60696473,  6.91064952,  7.42046736,  5.31621552,\n",
       "        5.97021652,  4.42998168,  7.17183046,  3.61382244,  3.67460698,\n",
       "        6.28433731, -1.01812947, -0.9619143 ,  2.91715922, -1.47540521,\n",
       "        4.81356211,  0.1153087 ,  0.2937677 ,  5.9860307 ,  5.61225893,\n",
       "        6.42683151,  5.42329078,  2.27006893,  8.21778345,  5.09662261,\n",
       "        7.40800807,  7.73687553,  8.3948418 , 10.23347886, 11.20817596,\n",
       "       11.16389054, 10.34065927, 13.16259594, 15.81208319, 12.62208053,\n",
       "       13.74644373, 13.23823387, 18.85335717, 16.8008691 , 16.53750363,\n",
       "       14.30929198, 19.32846982, 16.95137589, 18.55856907, 17.71253612,\n",
       "       20.44319027, 20.65373932, 19.11224517, 20.32836056, 17.38352085,\n",
       "       16.68805321, 20.70451849, 20.32310946, 21.27449691, 24.81091966,\n",
       "       21.95119153, 18.23853983, 22.28504223, 17.39240773, 19.05674972,\n",
       "       19.81963949, 23.28988333, 18.36720894, 18.17011979, 19.49447427,\n",
       "       18.22054717, 21.72573146, 17.03835783, 16.88480428, 17.92767712,\n",
       "       17.3024518 , 22.11329054, 20.12799407, 18.30561206, 15.63466516,\n",
       "       19.7607728 , 16.11916792, 15.06300018, 20.589366  , 19.59398795,\n",
       "       21.75995751, 22.9720112 , 24.39176526, 22.88667215, 22.22597407,\n",
       "       28.1110742 , 27.10706462, 27.38435883, 28.16102681, 30.82576245])"
      ]
     },
     "execution_count": 69,
     "metadata": {},
     "output_type": "execute_result"
    }
   ],
   "source": [
    "# データの確認 (y)\n",
    "dataY"
   ]
  },
  {
   "cell_type": "markdown",
   "metadata": {},
   "source": [
    "## 3. 最小二乗法を適用する(次数1の近似関数を愚直に求める)\n",
    "次数1，つまりy=ax+bの直線で近似する．"
   ]
  },
  {
   "cell_type": "code",
   "execution_count": 70,
   "metadata": {},
   "outputs": [],
   "source": [
    "# 連立1次方程式 Ax = bの行列Aとベクトルbを求める\n",
    "# 次数1のとき，正規方程式の行列は2行2列になる\n",
    "matrixA = np.zeros((2,2))\n",
    "b = np.zeros((2,1))"
   ]
  },
  {
   "cell_type": "code",
   "execution_count": 71,
   "metadata": {},
   "outputs": [],
   "source": [
    "matrixA[0,0] = sum(dataX * dataX)\n",
    "matrixA[0,1] = sum(dataX)\n",
    "matrixA[1,0] = sum(dataX)\n",
    "matrixA[1,1] = len(dataX)\n",
    "\n",
    "b[0,0] = sum(dataX*dataY)\n",
    "b[1,0] = sum(dataY)"
   ]
  },
  {
   "cell_type": "code",
   "execution_count": 72,
   "metadata": {},
   "outputs": [
    {
     "data": {
      "text/plain": [
       "array([[507.5485627 , 160.03661173],\n",
       "       [160.03661173, 100.        ]])"
      ]
     },
     "execution_count": 72,
     "metadata": {},
     "output_type": "execute_result"
    }
   ],
   "source": [
    "matrixA"
   ]
  },
  {
   "cell_type": "code",
   "execution_count": 73,
   "metadata": {},
   "outputs": [
    {
     "data": {
      "text/plain": [
       "array([[3204.6200935 ],\n",
       "       [1497.84542718]])"
      ]
     },
     "execution_count": 73,
     "metadata": {},
     "output_type": "execute_result"
    }
   ],
   "source": [
    "b"
   ]
  },
  {
   "cell_type": "code",
   "execution_count": 74,
   "metadata": {},
   "outputs": [
    {
     "name": "stdout",
     "output_type": "stream",
     "text": [
      "[[3.21168736]\n",
      " [9.83857864]]\n"
     ]
    }
   ],
   "source": [
    "# 連立1次方程式 Ax = bを解く\n",
    "#\n",
    "# 公式を使って逆行列を求めて，解を求める\n",
    "\n",
    "inv = 1/(matrixA[0,0]*matrixA[1,1] - matrixA[0,1]*matrixA[1,0])*np.array([[matrixA[1,1],-1*matrixA[1,0]],[-1*matrixA[1,0],matrixA[0,0]]])\n",
    "ans = np.dot(inv, b)\n",
    "print(ans)"
   ]
  },
  {
   "cell_type": "code",
   "execution_count": 75,
   "metadata": {},
   "outputs": [
    {
     "name": "stdout",
     "output_type": "stream",
     "text": [
      "[[3.21168736]\n",
      " [9.83857864]]\n"
     ]
    }
   ],
   "source": [
    "# 連立1次方程式 Ax = bを解く\n",
    "#\n",
    "# Numpyで逆行列を求めて，解を求める\n",
    "\n",
    "inv = np.linalg.inv(matrixA)\n",
    "ans = np.dot(inv, b)\n",
    "print(ans)"
   ]
  },
  {
   "cell_type": "code",
   "execution_count": 76,
   "metadata": {},
   "outputs": [
    {
     "name": "stdout",
     "output_type": "stream",
     "text": [
      "[[3.21168736]\n",
      " [9.83857864]]\n"
     ]
    }
   ],
   "source": [
    "# 連立1次方程式 Ax = bを解く\n",
    "#\n",
    "# Numpyで連立1次方程式を解く\n",
    "# 数値計算的には，この方法がベスト\n",
    "# 解が求まるなら逆行列を求める必要はないから\n",
    "\n",
    "ans = np.linalg.solve(matrixA, b)\n",
    "print(ans)"
   ]
  },
  {
   "cell_type": "code",
   "execution_count": 77,
   "metadata": {},
   "outputs": [
    {
     "data": {
      "image/png": "[encoded data removed]",
      "text/plain": [
       "<Figure size 432x288 with 1 Axes>"
      ]
     },
     "metadata": {
      "needs_background": "light"
     },
     "output_type": "display_data"
    }
   ],
   "source": [
    "# 求めたパラメータをグラフに表示する\n",
    "\n",
    "# 求めた関数\n",
    "def solve_func(x):\n",
    "    y = ans[0] * x + ans[1]\n",
    "    return y\n",
    "\n",
    "# 定義域（xの範囲: -1.0から4.5）\n",
    "# 生成するデータの個数は100個\n",
    "xmin = -1.0\n",
    "xmax = 4.5\n",
    "num = 100 \n",
    "\n",
    "# xを生成\n",
    "# xminからxmaxまでをnum個で区切る\n",
    "x = np.linspace(xmin, xmax, num)\n",
    "\n",
    "# ｘからｙを生成する．\n",
    "y = solve_func(x)\n",
    "\n",
    "# グラフ表示\n",
    "plt.plot(x, y, color='red') # 求めたパラメータから直線を引く\n",
    "\n",
    "plt.scatter(dataX, dataY) # 散布図\n",
    "plt.xlim(xmin, xmax)\n",
    "plt.grid(True)\n",
    "plt.show()"
   ]
  },
  {
   "cell_type": "markdown",
   "metadata": {},
   "source": [
    "## 4. 最小二乗法を適用する(Numpyライブラリで一発で求める)\n",
    "実はライブラリを使えば，もっと簡単に求めることができる．"
   ]
  },
  {
   "cell_type": "code",
   "execution_count": 78,
   "metadata": {},
   "outputs": [
    {
     "name": "stdout",
     "output_type": "stream",
     "text": [
      "[3.21168736 9.83857864]\n"
     ]
    }
   ],
   "source": [
    "# numpyのライブラリを使ってパラメータを求める(次数1)\n",
    "ans = np.polyfit(dataX, dataY, 1)\n",
    "print(ans)"
   ]
  },
  {
   "cell_type": "code",
   "execution_count": 79,
   "metadata": {},
   "outputs": [
    {
     "name": "stdout",
     "output_type": "stream",
     "text": [
      "[ 0.94967058 -7.5899179  17.06125434 -2.90639528  2.20477198]\n"
     ]
    }
   ],
   "source": [
    "# numpyのライブラリを使ってパラメータを求める(次数4)\n",
    "ans = np.polyfit(dataX, dataY, 4)\n",
    "print(ans)"
   ]
  },
  {
   "cell_type": "markdown",
   "metadata": {},
   "source": [
    "次数4に対応させるために関数を修正する必要がある"
   ]
  },
  {
   "cell_type": "code",
   "execution_count": 80,
   "metadata": {},
   "outputs": [
    {
     "data": {
      "image/png": "[encoded data removed]",
      "text/plain": [
       "<Figure size 432x288 with 1 Axes>"
      ]
     },
     "metadata": {
      "needs_background": "light"
     },
     "output_type": "display_data"
    }
   ],
   "source": [
    "# 求めたパラメータをグラフに表示する\n",
    "\n",
    "# 求めた関数\n",
    "def solve_func(x):\n",
    "    y = ans[0]*x*x*x*x + ans[1]*x*x*x + ans[2]*x*x + ans[3]*x + ans[4]\n",
    "    return y\n",
    "\n",
    "# 定義域（xの範囲: -1.0から4.5）\n",
    "# 生成するデータの個数は100個\n",
    "xmin = -1.0\n",
    "xmax = 4.5\n",
    "num = 100 \n",
    "\n",
    "# xを生成\n",
    "# xminからxmaxまでをnum個で区切る\n",
    "x = np.linspace(xmin, xmax, num)\n",
    "\n",
    "# ｘからｙを生成する．\n",
    "y = solve_func(x)\n",
    "\n",
    "# グラフ表示\n",
    "plt.plot(x, y, color='red')\n",
    "\n",
    "plt.scatter(dataX, dataY) # 散布図\n",
    "plt.xlim(xmin, xmax)\n",
    "plt.grid(True)\n",
    "plt.show()"
   ]
  },
  {
   "cell_type": "markdown",
   "metadata": {},
   "source": [
    "## 5. デモ（次数可変版）\n",
    "次数が増減してもそれに応じて関数を修正する必要がないプログラムを示す．\n",
    "データ生成と最小二乗法のプログラムを以下にまとめるので，パラメータをいろいろ変更して試してみると良い．"
   ]
  },
  {
   "cell_type": "markdown",
   "metadata": {},
   "source": [
    "### データ生成\n",
    "データの個数，乱数の種，標準偏差を変更して様々なデータを生成してみる．"
   ]
  },
  {
   "cell_type": "code",
   "execution_count": 81,
   "metadata": {},
   "outputs": [
    {
     "data": {
      "image/png": "[encoded data removed]",
      "text/plain": [
       "<Figure size 432x288 with 1 Axes>"
      ]
     },
     "metadata": {
      "needs_background": "light"
     },
     "output_type": "display_data"
    }
   ],
   "source": [
    "import numpy as np\n",
    "import matplotlib.pyplot as plt\n",
    "\n",
    "# 真のモデル\n",
    "def mathfunc(x):\n",
    "    y = x**4 - 8*x**3 + 18*x**2 - 3*x + 1\n",
    "    return y\n",
    "\n",
    "# 定義域（xの範囲: -1.0から4.5）\n",
    "# 生成するデータの個数は100個\n",
    "xmin = -1.0\n",
    "xmax = 4.5\n",
    "num = 100\n",
    "\n",
    "# 乱数の種を設定\n",
    "np.random.seed(0)\n",
    "\n",
    "# ランダムにxを生成して，昇順にソート\n",
    "dataX = (xmax - xmin) * np.random.rand(num) + xmin\n",
    "dataX = np.sort(dataX)\n",
    "\n",
    "# xからｙを生成する\n",
    "dataY = mathfunc(dataX)\n",
    "\n",
    "# yにノイズ（正規乱数（平均0．0， 標準偏差2.0））を加える\n",
    "dataY += np.random.normal(loc=0.0, scale=2.0, size=num)\n",
    "\n",
    "# グラフ表示\n",
    "plt.scatter(dataX, dataY) # 散布図\n",
    "plt.xlim(xmin, xmax)\n",
    "plt.grid(True)\n",
    "plt.show()"
   ]
  },
  {
   "cell_type": "markdown",
   "metadata": {},
   "source": [
    "### 最小二乗法\n",
    "次数を変更してみる．\n",
    "\n",
    "次数が多くなるほど，過学習していることがわかる．"
   ]
  },
  {
   "cell_type": "code",
   "execution_count": 83,
   "metadata": {},
   "outputs": [
    {
     "data": {
      "image/png": "[encoded data removed]",
      "text/plain": [
       "<Figure size 432x288 with 1 Axes>"
      ]
     },
     "metadata": {
      "needs_background": "light"
     },
     "output_type": "display_data"
    }
   ],
   "source": [
    "# 次数\n",
    "dim = 4\n",
    "\n",
    "# 最小二乗法でパラメータを求める．\n",
    "ans = np.polyfit(dataX, dataY, dim)\n",
    "\n",
    "\n",
    "# 求めたパラメータをグラフに表示する\n",
    "\n",
    "# 定義域（xの範囲: -1.0から4.5）\n",
    "# 生成するデータの個数は100個\n",
    "xmin = -1.0\n",
    "xmax = 4.5\n",
    "num = 100 \n",
    "\n",
    "# xを生成\n",
    "# xminからxmaxまでをnum個で区切る\n",
    "x = np.linspace(xmin, xmax, num)\n",
    "\n",
    "# ｘからｙを生成する．\n",
    "y = solve_func(x)\n",
    "\n",
    "# グラフ表示\n",
    "# 求めたパラメータから，それを係数とする多項式を作る．\n",
    "plt.plot(dataX, np.poly1d(ans)(dataX),color='red')\n",
    "\n",
    "plt.scatter(dataX, dataY)\n",
    "plt.xlim(xmin, xmax)\n",
    "plt.grid(True)\n",
    "plt.show()"
   ]
  }
 ],
 "metadata": {
  "kernelspec": {
   "display_name": "Python 3",
   "language": "python",
   "name": "python3"
  },
  "language_info": {
   "codemirror_mode": {
    "name": "ipython",
    "version": 3
   },
   "file_extension": ".py",
   "mimetype": "text/x-python",
   "name": "python",
   "nbconvert_exporter": "python",
   "pygments_lexer": "ipython3",
   "version": "3.7.4"
  }
 },
 "nbformat": 4,
 "nbformat_minor": 2
}
